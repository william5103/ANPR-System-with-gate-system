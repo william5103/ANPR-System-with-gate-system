{
 "cells": [
  {
   "cell_type": "code",
   "execution_count": 27,
   "metadata": {},
   "outputs": [
    {
     "name": "stdout",
     "output_type": "stream",
     "text": [
      "Collecting optuna\n",
      "  Downloading optuna-4.3.0-py3-none-any.whl.metadata (17 kB)\n",
      "Collecting alembic>=1.5.0 (from optuna)\n",
      "  Downloading alembic-1.16.1-py3-none-any.whl.metadata (7.3 kB)\n",
      "Collecting colorlog (from optuna)\n",
      "  Downloading colorlog-6.9.0-py3-none-any.whl.metadata (10 kB)\n",
      "Requirement already satisfied: numpy in c:\\users\\pang yong seng\\desktop\\fyp\\fyp 2\\fyp_env\\lib\\site-packages (from optuna) (1.26.4)\n",
      "Requirement already satisfied: packaging>=20.0 in c:\\users\\pang yong seng\\desktop\\fyp\\fyp 2\\fyp_env\\lib\\site-packages (from optuna) (23.1)\n",
      "Requirement already satisfied: sqlalchemy>=1.4.2 in c:\\users\\pang yong seng\\desktop\\fyp\\fyp 2\\fyp_env\\lib\\site-packages (from optuna) (2.0.25)\n",
      "Requirement already satisfied: tqdm in c:\\users\\pang yong seng\\desktop\\fyp\\fyp 2\\fyp_env\\lib\\site-packages (from optuna) (4.67.1)\n",
      "Requirement already satisfied: PyYAML in c:\\users\\pang yong seng\\desktop\\fyp\\fyp 2\\fyp_env\\lib\\site-packages (from optuna) (6.0.1)\n",
      "Collecting Mako (from alembic>=1.5.0->optuna)\n",
      "  Downloading mako-1.3.10-py3-none-any.whl.metadata (2.9 kB)\n",
      "Requirement already satisfied: typing-extensions>=4.12 in c:\\users\\pang yong seng\\desktop\\fyp\\fyp 2\\fyp_env\\lib\\site-packages (from alembic>=1.5.0->optuna) (4.12.2)\n",
      "Requirement already satisfied: greenlet!=0.4.17 in c:\\users\\pang yong seng\\desktop\\fyp\\fyp 2\\fyp_env\\lib\\site-packages (from sqlalchemy>=1.4.2->optuna) (3.0.1)\n",
      "Requirement already satisfied: colorama in c:\\users\\pang yong seng\\desktop\\fyp\\fyp 2\\fyp_env\\lib\\site-packages (from colorlog->optuna) (0.4.6)\n",
      "Requirement already satisfied: MarkupSafe>=0.9.2 in c:\\users\\pang yong seng\\desktop\\fyp\\fyp 2\\fyp_env\\lib\\site-packages (from Mako->alembic>=1.5.0->optuna) (2.1.3)\n",
      "Downloading optuna-4.3.0-py3-none-any.whl (386 kB)\n",
      "   ---------------------------------------- 0.0/386.6 kB ? eta -:--:--\n",
      "   ---------------------------------------- 0.0/386.6 kB ? eta -:--:--\n",
      "   --- ------------------------------------ 30.7/386.6 kB ? eta -:--:--\n",
      "   --- ------------------------------------ 30.7/386.6 kB ? eta -:--:--\n",
      "   --------- ----------------------------- 92.2/386.6 kB 871.5 kB/s eta 0:00:01\n",
      "   --------- ----------------------------- 92.2/386.6 kB 871.5 kB/s eta 0:00:01\n",
      "   ------------------ ------------------- 184.3/386.6 kB 926.0 kB/s eta 0:00:01\n",
      "   ------------------ ------------------- 184.3/386.6 kB 926.0 kB/s eta 0:00:01\n",
      "   ---------------------------- --------- 286.7/386.6 kB 983.9 kB/s eta 0:00:01\n",
      "   ---------------------------- --------- 286.7/386.6 kB 983.9 kB/s eta 0:00:01\n",
      "   ---------------------------------------- 386.6/386.6 kB 1.0 MB/s eta 0:00:00\n",
      "Downloading alembic-1.16.1-py3-none-any.whl (242 kB)\n",
      "   ---------------------------------------- 0.0/242.5 kB ? eta -:--:--\n",
      "   --------------- ------------------------ 92.2/242.5 kB ? eta -:--:--\n",
      "   --------------- ------------------------ 92.2/242.5 kB ? eta -:--:--\n",
      "   --------------------------------- ------ 204.8/242.5 kB 2.1 MB/s eta 0:00:01\n",
      "   --------------------------------- ------ 204.8/242.5 kB 2.1 MB/s eta 0:00:01\n",
      "   ---------------------------------------- 242.5/242.5 kB 1.2 MB/s eta 0:00:00\n",
      "Downloading colorlog-6.9.0-py3-none-any.whl (11 kB)\n",
      "Downloading mako-1.3.10-py3-none-any.whl (78 kB)\n",
      "   ---------------------------------------- 0.0/78.5 kB ? eta -:--:--\n",
      "   ---------------------------------------- 78.5/78.5 kB ? eta 0:00:00\n",
      "Installing collected packages: Mako, colorlog, alembic, optuna\n",
      "Successfully installed Mako-1.3.10 alembic-1.16.1 colorlog-6.9.0 optuna-4.3.0\n",
      "Note: you may need to restart the kernel to use updated packages.\n"
     ]
    },
    {
     "name": "stderr",
     "output_type": "stream",
     "text": [
      "  WARNING: The script mako-render.exe is installed in 'c:\\Users\\Pang Yong Seng\\Desktop\\FYP\\FYP 2\\fyp_env\\Scripts' which is not on PATH.\n",
      "  Consider adding this directory to PATH or, if you prefer to suppress this warning, use --no-warn-script-location.\n",
      "  WARNING: The script alembic.exe is installed in 'c:\\Users\\Pang Yong Seng\\Desktop\\FYP\\FYP 2\\fyp_env\\Scripts' which is not on PATH.\n",
      "  Consider adding this directory to PATH or, if you prefer to suppress this warning, use --no-warn-script-location.\n",
      "  WARNING: The script optuna.exe is installed in 'c:\\Users\\Pang Yong Seng\\Desktop\\FYP\\FYP 2\\fyp_env\\Scripts' which is not on PATH.\n",
      "  Consider adding this directory to PATH or, if you prefer to suppress this warning, use --no-warn-script-location.\n"
     ]
    }
   ],
   "source": [
    "pip install optuna"
   ]
  },
  {
   "cell_type": "code",
   "execution_count": 11,
   "metadata": {},
   "outputs": [],
   "source": [
    "import os\n",
    "import numpy as np\n",
    "import torch\n",
    "import torchvision\n",
    "from torchvision import transforms\n",
    "from PIL import Image\n",
    "from tqdm import tqdm\n",
    "import random\n",
    "import matplotlib.pyplot as plt\n",
    "import shutil\n",
    "from pathlib import Path\n",
    "import torch.nn as nn\n",
    "import torch.optim as optim\n",
    "from torch.utils.data import DataLoader\n",
    "from torchvision import datasets, models, transforms\n",
    "import optuna\n",
    "import time\n"
   ]
  },
  {
   "cell_type": "code",
   "execution_count": 1,
   "metadata": {},
   "outputs": [],
   "source": [
    "# Dataset path\n",
    "dataset_path = r\"C:\\Users\\Pang Yong Seng\\Desktop\\FYP\\FYP 2\\dataset\\Car-Model-Data\"\n"
   ]
  },
  {
   "cell_type": "code",
   "execution_count": 3,
   "metadata": {},
   "outputs": [],
   "source": [
    "# Create augmentation transforms\n",
    "augmentation_transforms = transforms.Compose([\n",
    "    transforms.RandomHorizontalFlip(p=1.0),  # Always flip horizontally\n",
    "    transforms.ColorJitter(brightness=0.2, contrast=0.2, saturation=0.2, hue=0.1)\n",
    "])\n"
   ]
  },
  {
   "cell_type": "code",
   "execution_count": 4,
   "metadata": {},
   "outputs": [
    {
     "name": "stdout",
     "output_type": "stream",
     "text": [
      "Found 14 classes\n",
      "Counting images before augmentation...\n"
     ]
    },
    {
     "name": "stderr",
     "output_type": "stream",
     "text": [
      "Counting original images: 100%|██████████| 14/14 [00:00<00:00, 279.73it/s]\n"
     ]
    },
    {
     "data": {
      "image/png": "[encoded data removed]",
      "text/plain": [
       "<Figure size 1500x800 with 1 Axes>"
      ]
     },
     "metadata": {},
     "output_type": "display_data"
    }
   ],
   "source": [
    "# Process each class and add augmented images directly to original folders\n",
    "class_counts_before = {}\n",
    "class_counts_after = {}\n",
    "classes = [d for d in os.listdir(dataset_path) if os.path.isdir(os.path.join(dataset_path, d)) and d != \"augmented\"]\n",
    "\n",
    "print(f\"Found {len(classes)} classes\")\n",
    "\n",
    "# Count images before augmentation\n",
    "print(\"Counting images before augmentation...\")\n",
    "for class_name in tqdm(classes, desc=\"Counting original images\"):\n",
    "    class_dir = os.path.join(dataset_path, class_name)\n",
    "    \n",
    "    # Get all original images in this class\n",
    "    original_images = [f for f in os.listdir(class_dir) if f.lower().endswith(('.png', '.jpg', '.jpeg')) \n",
    "                      and not f.startswith('aug_')]\n",
    "    \n",
    "    num_original_images = len(original_images)\n",
    "    class_counts_before[class_name] = num_original_images\n",
    "\n",
    "# Visualize before augmentation\n",
    "class_names = list(class_counts_before.keys())\n",
    "class_counts = list(class_counts_before.values())\n",
    "\n",
    "plt.figure(figsize=(15, 8))\n",
    "bars = plt.bar(class_names, class_counts)\n",
    "plt.title('Number of Images in Each Class (Before Augmentation)')\n",
    "plt.xlabel('Class')\n",
    "plt.ylabel('Number of Images')\n",
    "plt.xticks(rotation=90)\n",
    "plt.tight_layout()\n",
    "\n",
    "# Add count labels on top of each bar\n",
    "for bar in bars:\n",
    "    height = bar.get_height()\n",
    "    plt.annotate(f'{height}',\n",
    "                xy=(bar.get_x() + bar.get_width() / 2, height),\n",
    "                xytext=(0, 3),  # 3 points vertical offset\n",
    "                textcoords=\"offset points\",\n",
    "                ha='center', va='bottom')\n",
    "\n",
    "plt.axhline(y=500, color='r', linestyle='--', label='Target Count (500)')\n",
    "plt.legend()\n",
    "plt.show()"
   ]
  },
  {
   "cell_type": "code",
   "execution_count": 5,
   "metadata": {},
   "outputs": [
    {
     "name": "stderr",
     "output_type": "stream",
     "text": [
      "Processing classes for augmentation:   0%|          | 0/14 [00:00<?, ?it/s]"
     ]
    },
    {
     "name": "stdout",
     "output_type": "stream",
     "text": [
      "Class: accord, Original Images: 506, Current Total: 506\n",
      "Class: Alza, Original Images: 506, Current Total: 506\n",
      "Class: Aruz, Original Images: 507, Current Total: 507\n",
      "Class: Ativa, Original Images: 483, Current Total: 483\n"
     ]
    },
    {
     "name": "stderr",
     "output_type": "stream",
     "text": [
      "Processing classes for augmentation:  29%|██▊       | 4/14 [00:01<00:03,  2.92it/s]"
     ]
    },
    {
     "name": "stdout",
     "output_type": "stream",
     "text": [
      "Class: Axia, Original Images: 508, Current Total: 508\n",
      "Class: Bezza, Original Images: 506, Current Total: 506\n",
      "Class: camry, Original Images: 466, Current Total: 466\n"
     ]
    },
    {
     "name": "stderr",
     "output_type": "stream",
     "text": [
      "Processing classes for augmentation:  50%|█████     | 7/14 [00:02<00:02,  2.70it/s]"
     ]
    },
    {
     "name": "stdout",
     "output_type": "stream",
     "text": [
      "Class: city, Original Images: 302, Current Total: 302\n"
     ]
    },
    {
     "name": "stderr",
     "output_type": "stream",
     "text": [
      "Processing classes for augmentation:  57%|█████▋    | 8/14 [00:07<00:07,  1.28s/it]"
     ]
    },
    {
     "name": "stdout",
     "output_type": "stream",
     "text": [
      "Class: civic, Original Images: 500, Current Total: 500\n",
      "Class: corolla, Original Images: 506, Current Total: 506\n",
      "Class: Kancil, Original Images: 400, Current Total: 400\n"
     ]
    },
    {
     "name": "stderr",
     "output_type": "stream",
     "text": [
      "Processing classes for augmentation:  79%|███████▊  | 11/14 [00:11<00:03,  1.29s/it]"
     ]
    },
    {
     "name": "stdout",
     "output_type": "stream",
     "text": [
      "Class: Myvi, Original Images: 354, Current Total: 354\n"
     ]
    },
    {
     "name": "stderr",
     "output_type": "stream",
     "text": [
      "Processing classes for augmentation:  86%|████████▌ | 12/14 [00:14<00:03,  1.52s/it]"
     ]
    },
    {
     "name": "stdout",
     "output_type": "stream",
     "text": [
      "Class: vios, Original Images: 409, Current Total: 409\n"
     ]
    },
    {
     "name": "stderr",
     "output_type": "stream",
     "text": [
      "Processing classes for augmentation:  93%|█████████▎| 13/14 [00:15<00:01,  1.48s/it]"
     ]
    },
    {
     "name": "stdout",
     "output_type": "stream",
     "text": [
      "Class: yaris, Original Images: 497, Current Total: 497\n"
     ]
    },
    {
     "name": "stderr",
     "output_type": "stream",
     "text": [
      "Processing classes for augmentation: 100%|██████████| 14/14 [00:15<00:00,  1.10s/it]\n"
     ]
    },
    {
     "name": "stdout",
     "output_type": "stream",
     "text": [
      "\n",
      "Verifying all files exist...\n",
      "All files verified!\n"
     ]
    }
   ],
   "source": [
    "# Process each class for augmentation\n",
    "for class_name in tqdm(classes, desc=\"Processing classes for augmentation\"):\n",
    "    class_dir = os.path.join(dataset_path, class_name)\n",
    "    \n",
    "    # Get all original images in this class\n",
    "    original_images = [f for f in os.listdir(class_dir) if f.lower().endswith(('.png', '.jpg', '.jpeg')) \n",
    "                      and not f.startswith('aug_')]\n",
    "    \n",
    "    num_original_images = len(original_images)\n",
    "    \n",
    "    # Count all images (including any pre-existing augmented ones)\n",
    "    all_images = [f for f in os.listdir(class_dir) if f.lower().endswith(('.png', '.jpg', '.jpeg'))]\n",
    "    current_count = len(all_images)\n",
    "    \n",
    "    print(f\"Class: {class_name}, Original Images: {num_original_images}, Current Total: {current_count}\")\n",
    "    \n",
    "    # If class has less than 500 images, augment\n",
    "    if current_count < 500:\n",
    "        num_to_augment = 500 - current_count\n",
    "        \n",
    "        # Choose random images to augment from original images only (with replacement if necessary)\n",
    "        images_to_augment = random.choices(original_images, k=num_to_augment)\n",
    "        \n",
    "        for i, img_file in enumerate(tqdm(images_to_augment, desc=f\"Augmenting {class_name}\", leave=False)):\n",
    "            img_path = os.path.join(class_dir, img_file)\n",
    "            try:\n",
    "                # Open image and verify it's valid\n",
    "                img = Image.open(img_path).convert('RGB')\n",
    "                \n",
    "                # Apply augmentation\n",
    "                augmented_img = augmentation_transforms(img)\n",
    "                \n",
    "                # Save augmented image in the same directory as original\n",
    "                save_path = os.path.join(class_dir, f\"aug_{i}_{img_file}\")\n",
    "                augmented_img.save(save_path)\n",
    "                \n",
    "                # Verify the saved file exists and is valid\n",
    "                if not os.path.exists(save_path):\n",
    "                    print(f\"Warning: Failed to save {save_path}\")\n",
    "            except Exception as e:\n",
    "                print(f\"Error processing {img_path}: {e}\")\n",
    "\n",
    "# Verify all files exist after augmentation\n",
    "print(\"\\nVerifying all files exist...\")\n",
    "missing_files = []\n",
    "for class_name in classes:\n",
    "    class_dir = os.path.join(dataset_path, class_name)\n",
    "    all_images = [f for f in os.listdir(class_dir) if f.lower().endswith(('.png', '.jpg', '.jpeg'))]\n",
    "    \n",
    "    for img_file in all_images:\n",
    "        img_path = os.path.join(class_dir, img_file)\n",
    "        if not os.path.exists(img_path):\n",
    "            missing_files.append(img_path)\n",
    "\n",
    "if missing_files:\n",
    "    print(f\"Found {len(missing_files)} missing files:\")\n",
    "    for file in missing_files[:10]:  # Show first 10\n",
    "        print(f\"  - {file}\")\n",
    "    if len(missing_files) > 10:\n",
    "        print(f\"  ... and {len(missing_files) - 10} more\")\n",
    "else:\n",
    "    print(\"All files verified!\")\n"
   ]
  },
  {
   "cell_type": "code",
   "execution_count": 6,
   "metadata": {},
   "outputs": [
    {
     "name": "stdout",
     "output_type": "stream",
     "text": [
      "\n",
      "Counting images after augmentation...\n"
     ]
    },
    {
     "name": "stderr",
     "output_type": "stream",
     "text": [
      "Counting after augmentation: 100%|██████████| 14/14 [00:00<00:00, 1400.67it/s]"
     ]
    },
    {
     "name": "stdout",
     "output_type": "stream",
     "text": [
      "accord: 506 original + 0 augmented = 506 total\n",
      "Alza: 506 original + 0 augmented = 506 total\n",
      "Aruz: 507 original + 0 augmented = 507 total\n",
      "Ativa: 483 original + 17 augmented = 500 total\n",
      "Axia: 508 original + 0 augmented = 508 total\n",
      "Bezza: 506 original + 0 augmented = 506 total\n",
      "camry: 466 original + 34 augmented = 500 total\n",
      "city: 302 original + 198 augmented = 500 total\n",
      "civic: 500 original + 0 augmented = 500 total\n",
      "corolla: 506 original + 0 augmented = 506 total\n",
      "Kancil: 400 original + 100 augmented = 500 total\n",
      "Myvi: 354 original + 146 augmented = 500 total\n",
      "vios: 409 original + 91 augmented = 500 total\n",
      "yaris: 497 original + 3 augmented = 500 total\n"
     ]
    },
    {
     "name": "stderr",
     "output_type": "stream",
     "text": [
      "\n"
     ]
    },
    {
     "data": {
      "image/png": "[encoded data removed]",
      "text/plain": [
       "<Figure size 1500x800 with 1 Axes>"
      ]
     },
     "metadata": {},
     "output_type": "display_data"
    }
   ],
   "source": [
    "# Count images after augmentation\n",
    "print(\"\\nCounting images after augmentation...\")\n",
    "for class_name in tqdm(classes, desc=\"Counting after augmentation\"):\n",
    "    class_dir = os.path.join(dataset_path, class_name)\n",
    "    all_images = [f for f in os.listdir(class_dir) if f.lower().endswith(('.png', '.jpg', '.jpeg'))]\n",
    "    original_images = [f for f in all_images if not f.startswith('aug_')]\n",
    "    augmented_images = [f for f in all_images if f.startswith('aug_')]\n",
    "    \n",
    "    class_counts_after[class_name] = len(all_images)\n",
    "    \n",
    "    print(f\"{class_name}: {len(original_images)} original + {len(augmented_images)} augmented = {len(all_images)} total\")\n",
    "\n",
    "# Create a bar chart showing the count AFTER augmentation\n",
    "plt.figure(figsize=(15, 8))\n",
    "class_names = list(class_counts_after.keys())\n",
    "after_counts = list(class_counts_after.values())\n",
    "\n",
    "bars = plt.bar(class_names, after_counts)\n",
    "plt.title('Number of Images in Each Class (After Augmentation)')\n",
    "plt.xlabel('Class')\n",
    "plt.ylabel('Number of Images')\n",
    "plt.xticks(rotation=90)\n",
    "plt.tight_layout()\n",
    "\n",
    "# Add count labels on top of each bar\n",
    "for bar in bars:\n",
    "    height = bar.get_height()\n",
    "    plt.annotate(f'{height}',\n",
    "                xy=(bar.get_x() + bar.get_width() / 2, height),\n",
    "                xytext=(0, 3),  # 3 points vertical offset\n",
    "                textcoords=\"offset points\",\n",
    "                ha='center', va='bottom')\n",
    "\n",
    "plt.axhline(y=500, color='r', linestyle='--', label='Target Count (500)')\n",
    "plt.legend()\n",
    "plt.show()\n"
   ]
  },
  {
   "cell_type": "code",
   "execution_count": 12,
   "metadata": {},
   "outputs": [],
   "source": [
    "# Set random seed for reproducibility\n",
    "random.seed(42)\n",
    "np.random.seed(42)"
   ]
  },
  {
   "cell_type": "code",
   "execution_count": 13,
   "metadata": {},
   "outputs": [],
   "source": [
    "# Define paths\n",
    "dataset_root = \"dataset/Car-Model-Data\"\n",
    "original_data_dir = os.path.join(dataset_root, \"original\")  # Assuming this is where your original images are\n",
    "train_dir = os.path.join(dataset_root, \"train\")\n",
    "val_dir = os.path.join(dataset_root, \"val\")"
   ]
  },
  {
   "cell_type": "code",
   "execution_count": 14,
   "metadata": {},
   "outputs": [],
   "source": [
    "# Create directories if they don't exist\n",
    "os.makedirs(train_dir, exist_ok=True)\n",
    "os.makedirs(val_dir, exist_ok=True)"
   ]
  },
  {
   "cell_type": "code",
   "execution_count": 15,
   "metadata": {},
   "outputs": [],
   "source": [
    "# Function to split and copy images\n",
    "def split_dataset(source_dir, train_dir, val_dir, split_ratio=0.8):\n",
    "    # Get all class folders\n",
    "    class_folders = [d for d in os.listdir(source_dir) \n",
    "                     if os.path.isdir(os.path.join(source_dir, d))]\n",
    "    \n",
    "    print(f\"Found {len(class_folders)} classes: {class_folders}\")\n",
    "    \n",
    "    # Process each class folder\n",
    "    for class_name in tqdm(class_folders, desc=\"Processing classes\"):\n",
    "        # Create class directories in train and val\n",
    "        train_class_dir = os.path.join(train_dir, class_name)\n",
    "        val_class_dir = os.path.join(val_dir, class_name)\n",
    "        \n",
    "        os.makedirs(train_class_dir, exist_ok=True)\n",
    "        os.makedirs(val_class_dir, exist_ok=True)\n",
    "        \n",
    "        # Get all images for this class\n",
    "        class_path = os.path.join(source_dir, class_name)\n",
    "        images = [f for f in os.listdir(class_path) \n",
    "                 if f.lower().endswith(('.png', '.jpg', '.jpeg', '.bmp', '.tiff'))]\n",
    "        \n",
    "        # Shuffle images\n",
    "        random.shuffle(images)\n",
    "        \n",
    "        # Calculate split point\n",
    "        split_idx = int(len(images) * split_ratio)\n",
    "        \n",
    "        # Split into train and validation sets\n",
    "        train_images = images[:split_idx]\n",
    "        val_images = images[split_idx:]\n",
    "        \n",
    "        print(f\"  {class_name}: {len(train_images)} train, {len(val_images)} validation\")\n",
    "        \n",
    "        # Copy images to train folder\n",
    "        for img in tqdm(train_images, desc=f\"Copying {class_name} train images\", leave=False):\n",
    "            src = os.path.join(class_path, img)\n",
    "            dst = os.path.join(train_class_dir, img)\n",
    "            shutil.copy2(src, dst)\n",
    "        \n",
    "        # Copy images to validation folder\n",
    "        for img in tqdm(val_images, desc=f\"Copying {class_name} validation images\", leave=False):\n",
    "            src = os.path.join(class_path, img)\n",
    "            dst = os.path.join(val_class_dir, img)\n",
    "            shutil.copy2(src, dst)"
   ]
  },
  {
   "cell_type": "code",
   "execution_count": 17,
   "metadata": {},
   "outputs": [
    {
     "name": "stdout",
     "output_type": "stream",
     "text": [
      "Splitting dataset with 80% train, 20% validation\n",
      "Dataset appears to be organized by class folders\n",
      "Found 14 classes: ['accord', 'Alza', 'Aruz', 'Ativa', 'Axia', 'Bezza', 'camry', 'city', 'civic', 'corolla', 'Kancil', 'Myvi', 'vios', 'yaris']\n"
     ]
    },
    {
     "name": "stderr",
     "output_type": "stream",
     "text": [
      "Processing classes:   0%|          | 0/14 [00:00<?, ?it/s]"
     ]
    },
    {
     "name": "stdout",
     "output_type": "stream",
     "text": [
      "  accord: 404 train, 102 validation\n"
     ]
    },
    {
     "name": "stderr",
     "output_type": "stream",
     "text": [
      "Processing classes:   7%|▋         | 1/14 [00:04<00:56,  4.33s/it]"
     ]
    },
    {
     "name": "stdout",
     "output_type": "stream",
     "text": [
      "  Alza: 404 train, 102 validation\n"
     ]
    },
    {
     "name": "stderr",
     "output_type": "stream",
     "text": [
      "Processing classes:  14%|█▍        | 2/14 [00:08<00:52,  4.34s/it]"
     ]
    },
    {
     "name": "stdout",
     "output_type": "stream",
     "text": [
      "  Aruz: 405 train, 102 validation\n"
     ]
    },
    {
     "name": "stderr",
     "output_type": "stream",
     "text": [
      "Processing classes:  21%|██▏       | 3/14 [00:13<00:48,  4.38s/it]"
     ]
    },
    {
     "name": "stdout",
     "output_type": "stream",
     "text": [
      "  Ativa: 400 train, 100 validation\n"
     ]
    },
    {
     "name": "stderr",
     "output_type": "stream",
     "text": [
      "Processing classes:  29%|██▊       | 4/14 [00:17<00:43,  4.38s/it]"
     ]
    },
    {
     "name": "stdout",
     "output_type": "stream",
     "text": [
      "  Axia: 406 train, 102 validation\n"
     ]
    },
    {
     "name": "stderr",
     "output_type": "stream",
     "text": [
      "Processing classes:  36%|███▌      | 5/14 [00:21<00:39,  4.40s/it]"
     ]
    },
    {
     "name": "stdout",
     "output_type": "stream",
     "text": [
      "  Bezza: 404 train, 102 validation\n"
     ]
    },
    {
     "name": "stderr",
     "output_type": "stream",
     "text": [
      "Processing classes:  43%|████▎     | 6/14 [00:26<00:35,  4.43s/it]"
     ]
    },
    {
     "name": "stdout",
     "output_type": "stream",
     "text": [
      "  camry: 400 train, 100 validation\n"
     ]
    },
    {
     "name": "stderr",
     "output_type": "stream",
     "text": [
      "Processing classes:  50%|█████     | 7/14 [00:30<00:30,  4.41s/it]"
     ]
    },
    {
     "name": "stdout",
     "output_type": "stream",
     "text": [
      "  city: 400 train, 100 validation\n"
     ]
    },
    {
     "name": "stderr",
     "output_type": "stream",
     "text": [
      "Processing classes:  57%|█████▋    | 8/14 [00:34<00:26,  4.34s/it]"
     ]
    },
    {
     "name": "stdout",
     "output_type": "stream",
     "text": [
      "  civic: 400 train, 100 validation\n"
     ]
    },
    {
     "name": "stderr",
     "output_type": "stream",
     "text": [
      "Processing classes:  64%|██████▍   | 9/14 [00:39<00:21,  4.31s/it]"
     ]
    },
    {
     "name": "stdout",
     "output_type": "stream",
     "text": [
      "  corolla: 404 train, 102 validation\n"
     ]
    },
    {
     "name": "stderr",
     "output_type": "stream",
     "text": [
      "Processing classes:  71%|███████▏  | 10/14 [00:43<00:17,  4.32s/it]"
     ]
    },
    {
     "name": "stdout",
     "output_type": "stream",
     "text": [
      "  Kancil: 400 train, 100 validation\n"
     ]
    },
    {
     "name": "stderr",
     "output_type": "stream",
     "text": [
      "Processing classes:  79%|███████▊  | 11/14 [00:47<00:12,  4.27s/it]"
     ]
    },
    {
     "name": "stdout",
     "output_type": "stream",
     "text": [
      "  Myvi: 400 train, 100 validation\n"
     ]
    },
    {
     "name": "stderr",
     "output_type": "stream",
     "text": [
      "Processing classes:  86%|████████▌ | 12/14 [00:51<00:08,  4.15s/it]"
     ]
    },
    {
     "name": "stdout",
     "output_type": "stream",
     "text": [
      "  vios: 400 train, 100 validation\n"
     ]
    },
    {
     "name": "stderr",
     "output_type": "stream",
     "text": [
      "Processing classes:  93%|█████████▎| 13/14 [00:55<00:04,  4.06s/it]"
     ]
    },
    {
     "name": "stdout",
     "output_type": "stream",
     "text": [
      "  yaris: 400 train, 100 validation\n"
     ]
    },
    {
     "name": "stderr",
     "output_type": "stream",
     "text": [
      "Processing classes: 100%|██████████| 14/14 [00:59<00:00,  4.25s/it]"
     ]
    },
    {
     "name": "stdout",
     "output_type": "stream",
     "text": [
      "\n",
      "Dataset splitting complete!\n",
      "Total images: 7039\n",
      "Training images: 5627 (79.94%)\n",
      "Validation images: 1412 (20.06%)\n"
     ]
    },
    {
     "name": "stderr",
     "output_type": "stream",
     "text": [
      "\n"
     ]
    }
   ],
   "source": [
    "# Main execution\n",
    "def main():\n",
    "    # Check if dataset directory exists\n",
    "    if not os.path.exists(original_data_dir):\n",
    "        print(f\"Error: Dataset directory {original_data_dir} not found.\")\n",
    "        print(\"Please check the path or update the script.\")\n",
    "        return\n",
    "    \n",
    "    print(f\"Splitting dataset with {split_ratio*100:.0f}% train, {(1-split_ratio)*100:.0f}% validation\")\n",
    "    \n",
    "    # Check the structure of the dataset\n",
    "    is_class_organized = any(os.path.isdir(os.path.join(original_data_dir, d)) \n",
    "                           for d in os.listdir(original_data_dir))\n",
    "    \n",
    "    if is_class_organized:\n",
    "        print(\"Dataset appears to be organized by class folders\")\n",
    "        split_dataset(original_data_dir, train_dir, val_dir)\n",
    "    else:\n",
    "        print(\"Dataset appears to be a flat directory\")\n",
    "        split_flat_dataset(original_data_dir, train_dir, val_dir)\n",
    "    \n",
    "    # Count files to verify\n",
    "    train_count = sum(len(files) for _, _, files in os.walk(train_dir))\n",
    "    val_count = sum(len(files) for _, _, files in os.walk(val_dir))\n",
    "    total = train_count + val_count\n",
    "    \n",
    "    print(\"\\nDataset splitting complete!\")\n",
    "    print(f\"Total images: {total}\")\n",
    "    print(f\"Training images: {train_count} ({train_count/total*100:.2f}%)\")\n",
    "    print(f\"Validation images: {val_count} ({val_count/total*100:.2f}%)\")\n",
    "\n",
    "if __name__ == \"__main__\":\n",
    "    # Set your desired split ratio here (0.8 = 80% train, 20% validation)\n",
    "    split_ratio = 0.8\n",
    "    main()"
   ]
  },
  {
   "cell_type": "code",
   "execution_count": 7,
   "metadata": {},
   "outputs": [],
   "source": [
    "import os\n",
    "import torch\n",
    "import torch.nn as nn\n",
    "import torch.optim as optim\n",
    "from torch.utils.data import DataLoader\n",
    "from torchvision import datasets, transforms, models\n",
    "from tqdm import tqdm\n",
    "import matplotlib.pyplot as plt"
   ]
  },
  {
   "cell_type": "code",
   "execution_count": 8,
   "metadata": {},
   "outputs": [
    {
     "name": "stdout",
     "output_type": "stream",
     "text": [
      "Using cuda device\n"
     ]
    }
   ],
   "source": [
    "# Set device\n",
    "device = torch.device(\"cuda\" if torch.cuda.is_available() else \"cpu\")\n",
    "print(f\"Using {device} device\")\n",
    "\n",
    "# Set paths and parameters\n",
    "data_dir = \"dataset/Car-Model-Data\"\n",
    "num_classes = 14\n",
    "batch_size = 32\n",
    "num_epochs = 20\n",
    "learning_rate = 0.001"
   ]
  },
  {
   "cell_type": "code",
   "execution_count": 9,
   "metadata": {},
   "outputs": [],
   "source": [
    "# Data preprocessing\n",
    "transform = transforms.Compose([\n",
    "    transforms.Resize((224, 224)),  # ResNet requires 224x224 input\n",
    "    transforms.ToTensor(),\n",
    "    transforms.Normalize(mean=[0.485, 0.456, 0.406], std=[0.229, 0.224, 0.225])  # ImageNet stats\n",
    "])"
   ]
  },
  {
   "cell_type": "code",
   "execution_count": 18,
   "metadata": {},
   "outputs": [
    {
     "name": "stdout",
     "output_type": "stream",
     "text": [
      "Loading dataset...\n",
      "Classes: ['Alza', 'Aruz', 'Ativa', 'Axia', 'Bezza', 'Kancil', 'Myvi', 'accord', 'camry', 'city', 'civic', 'corolla', 'vios', 'yaris']\n",
      "Number of training samples: 5627\n",
      "Number of validation samples: 1412\n"
     ]
    }
   ],
   "source": [
    "# Load data\n",
    "print(\"Loading dataset...\")\n",
    "train_dataset = datasets.ImageFolder(os.path.join(data_dir, 'train'), transform=transform)\n",
    "val_dataset = datasets.ImageFolder(os.path.join(data_dir, 'val'), transform=transform)\n",
    "\n",
    "train_loader = DataLoader(train_dataset, batch_size=batch_size, shuffle=True, num_workers=4)\n",
    "val_loader = DataLoader(val_dataset, batch_size=batch_size, shuffle=False, num_workers=4)\n",
    "\n",
    "# Print class information\n",
    "class_names = train_dataset.classes\n",
    "print(f\"Classes: {class_names}\")\n",
    "print(f\"Number of training samples: {len(train_dataset)}\")\n",
    "print(f\"Number of validation samples: {len(val_dataset)}\")\n"
   ]
  },
  {
   "cell_type": "code",
   "execution_count": 19,
   "metadata": {},
   "outputs": [
    {
     "name": "stderr",
     "output_type": "stream",
     "text": [
      "Downloading: \"https://download.pytorch.org/models/resnet50-11ad3fa6.pth\" to C:\\Users\\Pang Yong Seng/.cache\\torch\\hub\\checkpoints\\resnet50-11ad3fa6.pth\n",
      "100%|██████████| 97.8M/97.8M [00:44<00:00, 2.31MB/s]\n"
     ]
    }
   ],
   "source": [
    "# Load pre-trained ResNet-50 model and modify the final layer\n",
    "model = models.resnet50(weights='IMAGENET1K_V2')\n"
   ]
  },
  {
   "cell_type": "code",
   "execution_count": 20,
   "metadata": {},
   "outputs": [],
   "source": [
    "# Freeze early layers to speed up training\n",
    "for param in list(model.parameters())[:-2*4]:  # Freeze all except the last 2 layers\n",
    "    param.requires_grad = False\n",
    "\n",
    "# Replace the final fully connected layer\n",
    "num_ftrs = model.fc.in_features\n",
    "model.fc = nn.Linear(num_ftrs, num_classes)\n",
    "model = model.to(device)"
   ]
  },
  {
   "cell_type": "code",
   "execution_count": 21,
   "metadata": {},
   "outputs": [],
   "source": [
    "# Loss function and optimizer\n",
    "criterion = nn.CrossEntropyLoss()\n",
    "optimizer = optim.Adam(model.parameters(), lr=learning_rate)\n",
    "scheduler = optim.lr_scheduler.ReduceLROnPlateau(optimizer, mode='min', factor=0.1, patience=3)\n"
   ]
  },
  {
   "cell_type": "code",
   "execution_count": 22,
   "metadata": {},
   "outputs": [],
   "source": [
    "# Training function\n",
    "def train_model(model, train_loader, val_loader, criterion, optimizer, scheduler, num_epochs):\n",
    "    train_losses = []\n",
    "    val_losses = []\n",
    "    train_accuracies = []\n",
    "    val_accuracies = []\n",
    "    \n",
    "    for epoch in range(num_epochs):\n",
    "        # Training phase\n",
    "        model.train()\n",
    "        running_loss = 0.0\n",
    "        correct = 0\n",
    "        total = 0\n",
    "        \n",
    "        train_bar = tqdm(train_loader, desc=f\"Epoch {epoch+1}/{num_epochs} [Train]\")\n",
    "        for inputs, labels in train_bar:\n",
    "            inputs, labels = inputs.to(device), labels.to(device)\n",
    "            \n",
    "            optimizer.zero_grad()\n",
    "            outputs = model(inputs)\n",
    "            loss = criterion(outputs, labels)\n",
    "            loss.backward()\n",
    "            optimizer.step()\n",
    "            \n",
    "            running_loss += loss.item() * inputs.size(0)\n",
    "            _, predicted = torch.max(outputs, 1)\n",
    "            total += labels.size(0)\n",
    "            correct += (predicted == labels).sum().item()\n",
    "            \n",
    "            train_bar.set_postfix({'loss': loss.item(), 'acc': correct/total})\n",
    "        \n",
    "        epoch_train_loss = running_loss / len(train_loader.dataset)\n",
    "        epoch_train_acc = correct / total\n",
    "        train_losses.append(epoch_train_loss)\n",
    "        train_accuracies.append(epoch_train_acc)\n",
    "        \n",
    "        # Validation phase\n",
    "        model.eval()\n",
    "        val_loss = 0.0\n",
    "        val_correct = 0\n",
    "        val_total = 0\n",
    "        \n",
    "        with torch.no_grad():\n",
    "            val_bar = tqdm(val_loader, desc=f\"Epoch {epoch+1}/{num_epochs} [Val]\")\n",
    "            for inputs, labels in val_bar:\n",
    "                inputs, labels = inputs.to(device), labels.to(device)\n",
    "                \n",
    "                outputs = model(inputs)\n",
    "                loss = criterion(outputs, labels)\n",
    "                \n",
    "                val_loss += loss.item() * inputs.size(0)\n",
    "                _, predicted = torch.max(outputs, 1)\n",
    "                val_total += labels.size(0)\n",
    "                val_correct += (predicted == labels).sum().item()\n",
    "                \n",
    "                val_bar.set_postfix({'loss': loss.item(), 'acc': val_correct/val_total})\n",
    "        \n",
    "        epoch_val_loss = val_loss / len(val_loader.dataset)\n",
    "        epoch_val_acc = val_correct / val_total\n",
    "        val_losses.append(epoch_val_loss)\n",
    "        val_accuracies.append(epoch_val_acc)\n",
    "        \n",
    "        print(f\"Epoch {epoch+1}/{num_epochs}: \"\n",
    "              f\"Train Loss: {epoch_train_loss:.4f}, Train Acc: {epoch_train_acc:.4f}, \"\n",
    "              f\"Val Loss: {epoch_val_loss:.4f}, Val Acc: {epoch_val_acc:.4f}\")\n",
    "        \n",
    "        # Update learning rate\n",
    "        scheduler.step(epoch_val_loss)\n",
    "    \n",
    "    return model, train_losses, val_losses, train_accuracies, val_accuracies\n"
   ]
  },
  {
   "cell_type": "code",
   "execution_count": 23,
   "metadata": {},
   "outputs": [
    {
     "name": "stderr",
     "output_type": "stream",
     "text": [
      "Epoch 1/20 [Train]: 100%|██████████| 176/176 [00:37<00:00,  4.64it/s, loss=0.898, acc=0.453]\n",
      "Epoch 1/20 [Val]: 100%|██████████| 45/45 [00:17<00:00,  2.51it/s, loss=1.13, acc=0.576] \n"
     ]
    },
    {
     "name": "stdout",
     "output_type": "stream",
     "text": [
      "Epoch 1/20: Train Loss: 1.6756, Train Acc: 0.4526, Val Loss: 1.2597, Val Acc: 0.5758\n"
     ]
    },
    {
     "name": "stderr",
     "output_type": "stream",
     "text": [
      "Epoch 2/20 [Train]: 100%|██████████| 176/176 [00:28<00:00,  6.09it/s, loss=0.871, acc=0.773]\n",
      "Epoch 2/20 [Val]: 100%|██████████| 45/45 [00:16<00:00,  2.81it/s, loss=1.79, acc=0.668] \n"
     ]
    },
    {
     "name": "stdout",
     "output_type": "stream",
     "text": [
      "Epoch 2/20: Train Loss: 0.7399, Train Acc: 0.7731, Val Loss: 1.0117, Val Acc: 0.6678\n"
     ]
    },
    {
     "name": "stderr",
     "output_type": "stream",
     "text": [
      "Epoch 3/20 [Train]: 100%|██████████| 176/176 [00:28<00:00,  6.09it/s, loss=0.346, acc=0.887]\n",
      "Epoch 3/20 [Val]: 100%|██████████| 45/45 [00:16<00:00,  2.81it/s, loss=0.75, acc=0.655] \n"
     ]
    },
    {
     "name": "stdout",
     "output_type": "stream",
     "text": [
      "Epoch 3/20: Train Loss: 0.3707, Train Acc: 0.8870, Val Loss: 1.1098, Val Acc: 0.6551\n"
     ]
    },
    {
     "name": "stderr",
     "output_type": "stream",
     "text": [
      "Epoch 4/20 [Train]: 100%|██████████| 176/176 [00:28<00:00,  6.17it/s, loss=0.341, acc=0.947] \n",
      "Epoch 4/20 [Val]: 100%|██████████| 45/45 [00:16<00:00,  2.74it/s, loss=1.49, acc=0.695]  \n"
     ]
    },
    {
     "name": "stdout",
     "output_type": "stream",
     "text": [
      "Epoch 4/20: Train Loss: 0.1939, Train Acc: 0.9470, Val Loss: 1.0237, Val Acc: 0.6955\n"
     ]
    },
    {
     "name": "stderr",
     "output_type": "stream",
     "text": [
      "Epoch 5/20 [Train]: 100%|██████████| 176/176 [00:28<00:00,  6.12it/s, loss=0.237, acc=0.969] \n",
      "Epoch 5/20 [Val]: 100%|██████████| 45/45 [00:15<00:00,  2.85it/s, loss=0.602, acc=0.691] \n"
     ]
    },
    {
     "name": "stdout",
     "output_type": "stream",
     "text": [
      "Epoch 5/20: Train Loss: 0.1112, Train Acc: 0.9691, Val Loss: 1.0925, Val Acc: 0.6905\n"
     ]
    },
    {
     "name": "stderr",
     "output_type": "stream",
     "text": [
      "Epoch 6/20 [Train]: 100%|██████████| 176/176 [00:29<00:00,  6.02it/s, loss=0.131, acc=0.981] \n",
      "Epoch 6/20 [Val]: 100%|██████████| 45/45 [00:16<00:00,  2.79it/s, loss=0.859, acc=0.712] \n"
     ]
    },
    {
     "name": "stdout",
     "output_type": "stream",
     "text": [
      "Epoch 6/20: Train Loss: 0.0736, Train Acc: 0.9810, Val Loss: 1.0384, Val Acc: 0.7118\n"
     ]
    },
    {
     "name": "stderr",
     "output_type": "stream",
     "text": [
      "Epoch 7/20 [Train]: 100%|██████████| 176/176 [00:29<00:00,  6.06it/s, loss=0.0214, acc=0.994] \n",
      "Epoch 7/20 [Val]: 100%|██████████| 45/45 [00:15<00:00,  2.83it/s, loss=1.01, acc=0.734]  \n"
     ]
    },
    {
     "name": "stdout",
     "output_type": "stream",
     "text": [
      "Epoch 7/20: Train Loss: 0.0353, Train Acc: 0.9941, Val Loss: 0.9853, Val Acc: 0.7337\n"
     ]
    },
    {
     "name": "stderr",
     "output_type": "stream",
     "text": [
      "Epoch 8/20 [Train]: 100%|██████████| 176/176 [00:28<00:00,  6.15it/s, loss=0.0562, acc=0.997] \n",
      "Epoch 8/20 [Val]: 100%|██████████| 45/45 [00:16<00:00,  2.77it/s, loss=1.31, acc=0.737]   \n"
     ]
    },
    {
     "name": "stdout",
     "output_type": "stream",
     "text": [
      "Epoch 8/20: Train Loss: 0.0228, Train Acc: 0.9968, Val Loss: 0.9478, Val Acc: 0.7373\n"
     ]
    },
    {
     "name": "stderr",
     "output_type": "stream",
     "text": [
      "Epoch 9/20 [Train]: 100%|██████████| 176/176 [00:28<00:00,  6.22it/s, loss=0.0649, acc=0.996] \n",
      "Epoch 9/20 [Val]: 100%|██████████| 45/45 [00:15<00:00,  2.86it/s, loss=1.12, acc=0.736]  \n"
     ]
    },
    {
     "name": "stdout",
     "output_type": "stream",
     "text": [
      "Epoch 9/20: Train Loss: 0.0202, Train Acc: 0.9964, Val Loss: 0.9540, Val Acc: 0.7358\n"
     ]
    },
    {
     "name": "stderr",
     "output_type": "stream",
     "text": [
      "Epoch 10/20 [Train]: 100%|██████████| 176/176 [00:28<00:00,  6.17it/s, loss=0.0176, acc=0.999] \n",
      "Epoch 10/20 [Val]: 100%|██████████| 45/45 [00:15<00:00,  2.85it/s, loss=0.958, acc=0.734] \n"
     ]
    },
    {
     "name": "stdout",
     "output_type": "stream",
     "text": [
      "Epoch 10/20: Train Loss: 0.0158, Train Acc: 0.9986, Val Loss: 0.9652, Val Acc: 0.7344\n"
     ]
    },
    {
     "name": "stderr",
     "output_type": "stream",
     "text": [
      "Epoch 11/20 [Train]: 100%|██████████| 176/176 [00:28<00:00,  6.15it/s, loss=0.0101, acc=0.999] \n",
      "Epoch 11/20 [Val]: 100%|██████████| 45/45 [00:15<00:00,  2.83it/s, loss=1.11, acc=0.741]  \n"
     ]
    },
    {
     "name": "stdout",
     "output_type": "stream",
     "text": [
      "Epoch 11/20: Train Loss: 0.0138, Train Acc: 0.9989, Val Loss: 0.9465, Val Acc: 0.7408\n"
     ]
    },
    {
     "name": "stderr",
     "output_type": "stream",
     "text": [
      "Epoch 12/20 [Train]: 100%|██████████| 176/176 [00:28<00:00,  6.17it/s, loss=0.0211, acc=0.998] \n",
      "Epoch 12/20 [Val]: 100%|██████████| 45/45 [00:15<00:00,  2.83it/s, loss=1.22, acc=0.734]  \n"
     ]
    },
    {
     "name": "stdout",
     "output_type": "stream",
     "text": [
      "Epoch 12/20: Train Loss: 0.0146, Train Acc: 0.9979, Val Loss: 0.9673, Val Acc: 0.7337\n"
     ]
    },
    {
     "name": "stderr",
     "output_type": "stream",
     "text": [
      "Epoch 13/20 [Train]: 100%|██████████| 176/176 [00:28<00:00,  6.18it/s, loss=0.011, acc=0.998]   \n",
      "Epoch 13/20 [Val]: 100%|██████████| 45/45 [00:15<00:00,  2.89it/s, loss=1.38, acc=0.729] \n"
     ]
    },
    {
     "name": "stdout",
     "output_type": "stream",
     "text": [
      "Epoch 13/20: Train Loss: 0.0128, Train Acc: 0.9977, Val Loss: 0.9634, Val Acc: 0.7295\n"
     ]
    },
    {
     "name": "stderr",
     "output_type": "stream",
     "text": [
      "Epoch 14/20 [Train]: 100%|██████████| 176/176 [00:28<00:00,  6.18it/s, loss=0.00462, acc=0.999] \n",
      "Epoch 14/20 [Val]: 100%|██████████| 45/45 [00:15<00:00,  2.87it/s, loss=1.05, acc=0.735]  \n"
     ]
    },
    {
     "name": "stdout",
     "output_type": "stream",
     "text": [
      "Epoch 14/20: Train Loss: 0.0092, Train Acc: 0.9989, Val Loss: 0.9689, Val Acc: 0.7351\n"
     ]
    },
    {
     "name": "stderr",
     "output_type": "stream",
     "text": [
      "Epoch 15/20 [Train]: 100%|██████████| 176/176 [00:28<00:00,  6.23it/s, loss=0.00126, acc=0.998]\n",
      "Epoch 15/20 [Val]: 100%|██████████| 45/45 [00:15<00:00,  2.89it/s, loss=1.31, acc=0.739]   \n"
     ]
    },
    {
     "name": "stdout",
     "output_type": "stream",
     "text": [
      "Epoch 15/20: Train Loss: 0.0106, Train Acc: 0.9984, Val Loss: 0.9715, Val Acc: 0.7394\n"
     ]
    },
    {
     "name": "stderr",
     "output_type": "stream",
     "text": [
      "Epoch 16/20 [Train]: 100%|██████████| 176/176 [00:28<00:00,  6.23it/s, loss=0.00445, acc=0.999]\n",
      "Epoch 16/20 [Val]: 100%|██████████| 45/45 [00:15<00:00,  2.87it/s, loss=1.34, acc=0.738] \n"
     ]
    },
    {
     "name": "stdout",
     "output_type": "stream",
     "text": [
      "Epoch 16/20: Train Loss: 0.0097, Train Acc: 0.9988, Val Loss: 0.9747, Val Acc: 0.7380\n"
     ]
    },
    {
     "name": "stderr",
     "output_type": "stream",
     "text": [
      "Epoch 17/20 [Train]: 100%|██████████| 176/176 [00:28<00:00,  6.19it/s, loss=0.00248, acc=0.998]\n",
      "Epoch 17/20 [Val]: 100%|██████████| 45/45 [00:15<00:00,  2.89it/s, loss=1.29, acc=0.731]  \n"
     ]
    },
    {
     "name": "stdout",
     "output_type": "stream",
     "text": [
      "Epoch 17/20: Train Loss: 0.0090, Train Acc: 0.9984, Val Loss: 0.9569, Val Acc: 0.7309\n"
     ]
    },
    {
     "name": "stderr",
     "output_type": "stream",
     "text": [
      "Epoch 18/20 [Train]: 100%|██████████| 176/176 [00:28<00:00,  6.25it/s, loss=0.00414, acc=0.999]\n",
      "Epoch 18/20 [Val]: 100%|██████████| 45/45 [00:15<00:00,  2.89it/s, loss=1.43, acc=0.743]   \n"
     ]
    },
    {
     "name": "stdout",
     "output_type": "stream",
     "text": [
      "Epoch 18/20: Train Loss: 0.0075, Train Acc: 0.9995, Val Loss: 0.9580, Val Acc: 0.7429\n"
     ]
    },
    {
     "name": "stderr",
     "output_type": "stream",
     "text": [
      "Epoch 19/20 [Train]: 100%|██████████| 176/176 [00:28<00:00,  6.18it/s, loss=0.0159, acc=0.999] \n",
      "Epoch 19/20 [Val]: 100%|██████████| 45/45 [00:15<00:00,  2.89it/s, loss=0.932, acc=0.737] \n"
     ]
    },
    {
     "name": "stdout",
     "output_type": "stream",
     "text": [
      "Epoch 19/20: Train Loss: 0.0093, Train Acc: 0.9986, Val Loss: 0.9785, Val Acc: 0.7365\n"
     ]
    },
    {
     "name": "stderr",
     "output_type": "stream",
     "text": [
      "Epoch 20/20 [Train]: 100%|██████████| 176/176 [00:28<00:00,  6.15it/s, loss=0.00446, acc=0.999]\n",
      "Epoch 20/20 [Val]: 100%|██████████| 45/45 [00:16<00:00,  2.76it/s, loss=1.08, acc=0.742]  "
     ]
    },
    {
     "name": "stdout",
     "output_type": "stream",
     "text": [
      "Epoch 20/20: Train Loss: 0.0099, Train Acc: 0.9988, Val Loss: 0.9483, Val Acc: 0.7415\n"
     ]
    },
    {
     "name": "stderr",
     "output_type": "stream",
     "text": [
      "\n"
     ]
    }
   ],
   "source": [
    "# Train the model\n",
    "model, train_losses, val_losses, train_accuracies, val_accuracies = train_model(\n",
    "    model, train_loader, val_loader, criterion, optimizer, scheduler, num_epochs\n",
    ")"
   ]
  },
  {
   "cell_type": "code",
   "execution_count": 24,
   "metadata": {},
   "outputs": [
    {
     "name": "stdout",
     "output_type": "stream",
     "text": [
      "Model saved to car_brand_resnet50.pth\n"
     ]
    }
   ],
   "source": [
    "# Save the model\n",
    "torch.save(model.state_dict(), 'car_brand_resnet50.pth')\n",
    "print(\"Model saved to car_brand_resnet50.pth\")"
   ]
  },
  {
   "cell_type": "code",
   "execution_count": 25,
   "metadata": {},
   "outputs": [
    {
     "data": {
      "image/png": "[encoded data removed]",
      "text/plain": [
       "<Figure size 1200x500 with 2 Axes>"
      ]
     },
     "metadata": {},
     "output_type": "display_data"
    },
    {
     "name": "stdout",
     "output_type": "stream",
     "text": [
      "\n",
      "Evaluating model on validation set:\n",
      "Overall Accuracy: 74.15%\n",
      "Accuracy of Alza: 84.31%\n",
      "Accuracy of Aruz: 92.16%\n",
      "Accuracy of Ativa: 95.00%\n",
      "Accuracy of Axia: 76.47%\n",
      "Accuracy of Bezza: 73.53%\n",
      "Accuracy of Kancil: 96.00%\n",
      "Accuracy of Myvi: 81.00%\n",
      "Accuracy of accord: 66.67%\n",
      "Accuracy of camry: 60.00%\n",
      "Accuracy of city: 65.00%\n",
      "Accuracy of civic: 50.00%\n",
      "Accuracy of corolla: 57.84%\n",
      "Accuracy of vios: 73.00%\n",
      "Accuracy of yaris: 67.00%\n"
     ]
    }
   ],
   "source": [
    "# Plot training and validation results\n",
    "plt.figure(figsize=(12, 5))\n",
    "plt.subplot(1, 2, 1)\n",
    "plt.plot(train_losses, label='Train Loss')\n",
    "plt.plot(val_losses, label='Validation Loss')\n",
    "plt.xlabel('Epoch')\n",
    "plt.ylabel('Loss')\n",
    "plt.legend()\n",
    "plt.title('Training and Validation Loss')\n",
    "\n",
    "plt.subplot(1, 2, 2)\n",
    "plt.plot(train_accuracies, label='Train Accuracy')\n",
    "plt.plot(val_accuracies, label='Validation Accuracy')\n",
    "plt.xlabel('Epoch')\n",
    "plt.ylabel('Accuracy')\n",
    "plt.legend()\n",
    "plt.title('Training and Validation Accuracy')\n",
    "\n",
    "plt.tight_layout()\n",
    "plt.savefig('training_results.png')\n",
    "plt.show()\n",
    "\n",
    "# Evaluate the model on the validation set\n",
    "def evaluate_model(model, data_loader):\n",
    "    model.eval()\n",
    "    correct = 0\n",
    "    total = 0\n",
    "    class_correct = list(0. for i in range(num_classes))\n",
    "    class_total = list(0. for i in range(num_classes))\n",
    "    \n",
    "    with torch.no_grad():\n",
    "        for inputs, labels in data_loader:\n",
    "            inputs, labels = inputs.to(device), labels.to(device)\n",
    "            outputs = model(inputs)\n",
    "            _, predicted = torch.max(outputs, 1)\n",
    "            total += labels.size(0)\n",
    "            correct += (predicted == labels).sum().item()\n",
    "            \n",
    "            # Class performance\n",
    "            c = (predicted == labels).squeeze()\n",
    "            for i in range(labels.size(0)):\n",
    "                label = labels[i]\n",
    "                class_correct[label] += c[i].item()\n",
    "                class_total[label] += 1\n",
    "    \n",
    "    # Print overall accuracy\n",
    "    print(f'Overall Accuracy: {100 * correct / total:.2f}%')\n",
    "    \n",
    "    # Print class-wise accuracy\n",
    "    for i in range(num_classes):\n",
    "        if class_total[i] > 0:\n",
    "            print(f'Accuracy of {class_names[i]}: {100 * class_correct[i] / class_total[i]:.2f}%')\n",
    "\n",
    "# Evaluate the trained model\n",
    "print(\"\\nEvaluating model on validation set:\")\n",
    "evaluate_model(model, val_loader)"
   ]
  },
  {
   "cell_type": "code",
   "execution_count": 2,
   "metadata": {},
   "outputs": [
    {
     "name": "stderr",
     "output_type": "stream",
     "text": [
      "[I 2025-06-04 17:42:36,091] A new study created in memory with name: no-name-93fa6bce-ee72-4584-807b-c89d89d640cd\n"
     ]
    },
    {
     "name": "stdout",
     "output_type": "stream",
     "text": [
      "Using cuda device\n",
      "Loading dataset...\n",
      "Classes: ['Alza', 'Aruz', 'Ativa', 'Axia', 'Bezza', 'Kancil', 'Myvi', 'accord', 'camry', 'city', 'civic', 'corolla', 'vios', 'yaris']\n",
      "Number of training samples: 5627\n",
      "Number of validation samples: 1412\n",
      "Epoch 1/10: Train Loss: 1.4009, Train Acc: 0.5347, Val Loss: 1.1511, Val Acc: 0.6239\n",
      "Epoch 2/10: Train Loss: 0.5489, Train Acc: 0.8079, Val Loss: 0.7268, Val Acc: 0.7635\n",
      "Epoch 3/10: Train Loss: 0.3177, Train Acc: 0.8950, Val Loss: 0.6015, Val Acc: 0.8229\n",
      "Epoch 4/10: Train Loss: 0.1789, Train Acc: 0.9438, Val Loss: 0.7381, Val Acc: 0.7861\n"
     ]
    },
    {
     "name": "stderr",
     "output_type": "stream",
     "text": [
      "[I 2025-06-04 17:47:53,093] Trial 0 finished with value: 0.8229461756373938 and parameters: {'batch_size': 32, 'learning_rate': 0.0012022482924695793, 'optimizer': 'Adam', 'weight_decay': 1.2195730004877455e-06, 'freeze_layers': 5, 'dropout_rate': 0.23488980311280466, 'scheduler_factor': 0.17873135991173542, 'scheduler_patience': 4}. Best is trial 0 with value: 0.8229461756373938.\n"
     ]
    },
    {
     "name": "stdout",
     "output_type": "stream",
     "text": [
      "Epoch 5/10: Train Loss: 0.1158, Train Acc: 0.9648, Val Loss: 1.0691, Val Acc: 0.7344\n",
      "Time limit reached, stopping training.\n",
      "Epoch 1/10: Train Loss: 1.1818, Train Acc: 0.6366, Val Loss: 0.5313, Val Acc: 0.8336\n",
      "Epoch 2/10: Train Loss: 0.2532, Train Acc: 0.9250, Val Loss: 0.4211, Val Acc: 0.8548\n",
      "Epoch 3/10: Train Loss: 0.1252, Train Acc: 0.9634, Val Loss: 0.3733, Val Acc: 0.8867\n",
      "Epoch 4/10: Train Loss: 0.0812, Train Acc: 0.9774, Val Loss: 0.3175, Val Acc: 0.9051\n"
     ]
    },
    {
     "name": "stderr",
     "output_type": "stream",
     "text": [
      "[I 2025-06-04 17:52:53,919] Trial 1 finished with value: 0.9050991501416431 and parameters: {'batch_size': 32, 'learning_rate': 0.00022667031014222706, 'optimizer': 'Adam', 'weight_decay': 0.0005168679424566225, 'freeze_layers': 5, 'dropout_rate': 0.07387261142045354, 'scheduler_factor': 0.1317303964419264, 'scheduler_patience': 4}. Best is trial 1 with value: 0.9050991501416431.\n"
     ]
    },
    {
     "name": "stdout",
     "output_type": "stream",
     "text": [
      "Epoch 5/10: Train Loss: 0.0499, Train Acc: 0.9860, Val Loss: 0.3898, Val Acc: 0.8895\n",
      "Time limit reached, stopping training.\n",
      "Epoch 1/10: Train Loss: 1.0888, Train Acc: 0.6328, Val Loss: 0.6906, Val Acc: 0.8067\n",
      "Epoch 2/10: Train Loss: 0.2666, Train Acc: 0.9133, Val Loss: 0.4567, Val Acc: 0.8499\n",
      "Epoch 3/10: Train Loss: 0.1338, Train Acc: 0.9620, Val Loss: 0.4478, Val Acc: 0.8676\n",
      "Epoch 4/10: Train Loss: 0.0956, Train Acc: 0.9744, Val Loss: 0.5002, Val Acc: 0.8676\n",
      "Epoch 5/10: Train Loss: 0.0692, Train Acc: 0.9828, Val Loss: 0.4709, Val Acc: 0.8803\n",
      "Epoch 6/10: Train Loss: 0.0837, Train Acc: 0.9774, Val Loss: 0.3987, Val Acc: 0.8945\n"
     ]
    },
    {
     "name": "stderr",
     "output_type": "stream",
     "text": [
      "[I 2025-06-04 17:58:19,196] Trial 2 finished with value: 0.8944759206798867 and parameters: {'batch_size': 32, 'learning_rate': 0.0009686040884156614, 'optimizer': 'RMSprop', 'weight_decay': 0.00010541736468295282, 'freeze_layers': 7, 'dropout_rate': 0.1032662368585367, 'scheduler_factor': 0.10845521063421777, 'scheduler_patience': 2}. Best is trial 1 with value: 0.9050991501416431.\n"
     ]
    },
    {
     "name": "stdout",
     "output_type": "stream",
     "text": [
      "Epoch 7/10: Train Loss: 0.0586, Train Acc: 0.9794, Val Loss: 0.6955, Val Acc: 0.8173\n",
      "Time limit reached, stopping training.\n",
      "Epoch 1/10: Train Loss: 2.5961, Train Acc: 0.1431, Val Loss: 2.5270, Val Acc: 0.2521\n",
      "Epoch 2/10: Train Loss: 2.4368, Train Acc: 0.3018, Val Loss: 2.3405, Val Acc: 0.3584\n",
      "Epoch 3/10: Train Loss: 2.1996, Train Acc: 0.3995, Val Loss: 2.0607, Val Acc: 0.4115\n",
      "Epoch 4/10: Train Loss: 1.8849, Train Acc: 0.4761, Val Loss: 1.7520, Val Acc: 0.4908\n",
      "Epoch 5/10: Train Loss: 1.5593, Train Acc: 0.5783, Val Loss: 1.4794, Val Acc: 0.5602\n"
     ]
    },
    {
     "name": "stderr",
     "output_type": "stream",
     "text": [
      "[I 2025-06-04 18:03:35,633] Trial 3 finished with value: 0.6218130311614731 and parameters: {'batch_size': 64, 'learning_rate': 0.0009193676701714561, 'optimizer': 'SGD', 'weight_decay': 0.00032182541043566845, 'freeze_layers': 6, 'dropout_rate': 0.21803340808008453, 'scheduler_factor': 0.49297955725784903, 'scheduler_patience': 5}. Best is trial 1 with value: 0.9050991501416431.\n"
     ]
    },
    {
     "name": "stdout",
     "output_type": "stream",
     "text": [
      "Epoch 6/10: Train Loss: 1.2649, Train Acc: 0.6622, Val Loss: 1.2530, Val Acc: 0.6218\n",
      "Time limit reached, stopping training.\n",
      "Epoch 1/10: Train Loss: 2.4265, Train Acc: 0.2518, Val Loss: 2.0113, Val Acc: 0.4320\n",
      "Epoch 2/10: Train Loss: 1.5795, Train Acc: 0.5388, Val Loss: 1.1597, Val Acc: 0.6657\n",
      "Epoch 3/10: Train Loss: 0.8236, Train Acc: 0.7691, Val Loss: 0.7145, Val Acc: 0.7783\n",
      "Epoch 4/10: Train Loss: 0.3805, Train Acc: 0.9033, Val Loss: 0.5603, Val Acc: 0.8081\n"
     ]
    },
    {
     "name": "stderr",
     "output_type": "stream",
     "text": [
      "[I 2025-06-04 18:09:13,357] Trial 4 finished with value: 0.8378186968838527 and parameters: {'batch_size': 32, 'learning_rate': 0.0014672324820310528, 'optimizer': 'SGD', 'weight_decay': 1.3506877351327311e-05, 'freeze_layers': 3, 'dropout_rate': 0.19827771580141462, 'scheduler_factor': 0.17670628576037994, 'scheduler_patience': 3}. Best is trial 1 with value: 0.9050991501416431.\n"
     ]
    },
    {
     "name": "stdout",
     "output_type": "stream",
     "text": [
      "Epoch 5/10: Train Loss: 0.1656, Train Acc: 0.9684, Val Loss: 0.4716, Val Acc: 0.8378\n",
      "Time limit reached, stopping training.\n"
     ]
    },
    {
     "name": "stderr",
     "output_type": "stream",
     "text": [
      "[I 2025-06-04 18:09:54,953] Trial 5 pruned. \n"
     ]
    },
    {
     "name": "stdout",
     "output_type": "stream",
     "text": [
      "Epoch 1/10: Train Loss: 2.5716, Train Acc: 0.1843, Val Loss: 2.4709, Val Acc: 0.3265\n"
     ]
    },
    {
     "name": "stderr",
     "output_type": "stream",
     "text": [
      "[I 2025-06-04 18:12:32,203] Trial 6 pruned. \n"
     ]
    },
    {
     "name": "stdout",
     "output_type": "stream",
     "text": [
      "Epoch 1/10: Train Loss: 2.5503, Train Acc: 0.1814, Val Loss: 2.3723, Val Acc: 0.3704\n",
      "Epoch 1/10: Train Loss: 1.3598, Train Acc: 0.5474, Val Loss: 0.8889, Val Acc: 0.6976\n"
     ]
    },
    {
     "name": "stderr",
     "output_type": "stream",
     "text": [
      "[I 2025-06-04 18:14:52,825] Trial 7 pruned. \n"
     ]
    },
    {
     "name": "stdout",
     "output_type": "stream",
     "text": [
      "Epoch 2/10: Train Loss: 0.5686, Train Acc: 0.8104, Val Loss: 0.8267, Val Acc: 0.7351\n"
     ]
    },
    {
     "name": "stderr",
     "output_type": "stream",
     "text": [
      "[I 2025-06-04 18:16:01,132] Trial 8 pruned. \n"
     ]
    },
    {
     "name": "stdout",
     "output_type": "stream",
     "text": [
      "Epoch 1/10: Train Loss: 2.5567, Train Acc: 0.1859, Val Loss: 2.4111, Val Acc: 0.3534\n"
     ]
    },
    {
     "name": "stderr",
     "output_type": "stream",
     "text": [
      "[I 2025-06-04 18:17:16,931] Trial 9 pruned. \n"
     ]
    },
    {
     "name": "stdout",
     "output_type": "stream",
     "text": [
      "Epoch 1/10: Train Loss: 2.6386, Train Acc: 0.0798, Val Loss: 2.6182, Val Acc: 0.0984\n"
     ]
    },
    {
     "name": "stderr",
     "output_type": "stream",
     "text": [
      "[I 2025-06-04 18:18:25,240] Trial 10 pruned. \n"
     ]
    },
    {
     "name": "stdout",
     "output_type": "stream",
     "text": [
      "Epoch 1/10: Train Loss: 3.8180, Train Acc: 0.0842, Val Loss: 23.0609, Val Acc: 0.0722\n"
     ]
    },
    {
     "name": "stderr",
     "output_type": "stream",
     "text": [
      "[I 2025-06-04 18:19:08,553] Trial 11 pruned. \n"
     ]
    },
    {
     "name": "stdout",
     "output_type": "stream",
     "text": [
      "Epoch 1/10: Train Loss: 2.5380, Train Acc: 0.2303, Val Loss: 2.4624, Val Acc: 0.3237\n",
      "Epoch 1/10: Train Loss: 1.1467, Train Acc: 0.6447, Val Loss: 0.5573, Val Acc: 0.8123\n",
      "Epoch 2/10: Train Loss: 0.2394, Train Acc: 0.9353, Val Loss: 0.4305, Val Acc: 0.8683\n",
      "Epoch 3/10: Train Loss: 0.0697, Train Acc: 0.9845, Val Loss: 0.4327, Val Acc: 0.8676\n",
      "Epoch 4/10: Train Loss: 0.0417, Train Acc: 0.9906, Val Loss: 0.4593, Val Acc: 0.8697\n",
      "Epoch 5/10: Train Loss: 0.0448, Train Acc: 0.9883, Val Loss: 0.4535, Val Acc: 0.8789\n",
      "Epoch 6/10: Train Loss: 0.0417, Train Acc: 0.9899, Val Loss: 0.4998, Val Acc: 0.8704\n"
     ]
    },
    {
     "name": "stderr",
     "output_type": "stream",
     "text": [
      "[I 2025-06-04 18:24:33,864] Trial 12 finished with value: 0.8916430594900849 and parameters: {'batch_size': 32, 'learning_rate': 0.00011773495474373333, 'optimizer': 'RMSprop', 'weight_decay': 0.000986533129954383, 'freeze_layers': 7, 'dropout_rate': 0.0946072761366728, 'scheduler_factor': 0.16638470529834948, 'scheduler_patience': 3}. Best is trial 1 with value: 0.9050991501416431.\n"
     ]
    },
    {
     "name": "stdout",
     "output_type": "stream",
     "text": [
      "Epoch 7/10: Train Loss: 0.0178, Train Acc: 0.9959, Val Loss: 0.4137, Val Acc: 0.8916\n",
      "Time limit reached, stopping training.\n"
     ]
    },
    {
     "name": "stderr",
     "output_type": "stream",
     "text": [
      "[I 2025-06-04 18:25:27,055] Trial 13 pruned. \n"
     ]
    },
    {
     "name": "stdout",
     "output_type": "stream",
     "text": [
      "Epoch 1/10: Train Loss: 2.4534, Train Acc: 0.2593, Val Loss: 2.1686, Val Acc: 0.4115\n"
     ]
    },
    {
     "name": "stderr",
     "output_type": "stream",
     "text": [
      "[I 2025-06-04 18:26:35,487] Trial 14 pruned. \n"
     ]
    },
    {
     "name": "stdout",
     "output_type": "stream",
     "text": [
      "Epoch 1/10: Train Loss: 2.6425, Train Acc: 0.0937, Val Loss: 8.0277, Val Acc: 0.0786\n",
      "Epoch 1/10: Train Loss: 1.1525, Train Acc: 0.6259, Val Loss: 0.5161, Val Acc: 0.8392\n",
      "Epoch 2/10: Train Loss: 0.3118, Train Acc: 0.9019, Val Loss: 0.3516, Val Acc: 0.8938\n",
      "Epoch 3/10: Train Loss: 0.1518, Train Acc: 0.9582, Val Loss: 0.3322, Val Acc: 0.9001\n",
      "Epoch 4/10: Train Loss: 0.1028, Train Acc: 0.9717, Val Loss: 0.2956, Val Acc: 0.9157\n"
     ]
    },
    {
     "name": "stderr",
     "output_type": "stream",
     "text": [
      "[I 2025-06-04 18:32:11,521] Trial 15 finished with value: 0.9157223796033994 and parameters: {'batch_size': 16, 'learning_rate': 0.00010789557536232313, 'optimizer': 'RMSprop', 'weight_decay': 0.00040750323535827527, 'freeze_layers': 2, 'dropout_rate': 0.4666802835860424, 'scheduler_factor': 0.392195182888112, 'scheduler_patience': 3}. Best is trial 15 with value: 0.9157223796033994.\n"
     ]
    },
    {
     "name": "stdout",
     "output_type": "stream",
     "text": [
      "Epoch 5/10: Train Loss: 0.0779, Train Acc: 0.9780, Val Loss: 0.8825, Val Acc: 0.8428\n",
      "Time limit reached, stopping training.\n"
     ]
    },
    {
     "name": "stderr",
     "output_type": "stream",
     "text": [
      "[I 2025-06-04 18:33:19,841] Trial 16 pruned. \n"
     ]
    },
    {
     "name": "stdout",
     "output_type": "stream",
     "text": [
      "Epoch 1/10: Train Loss: 1.8905, Train Acc: 0.4100, Val Loss: 0.8804, Val Acc: 0.7217\n",
      "Epoch 1/10: Train Loss: 1.0764, Train Acc: 0.6506, Val Loss: 0.5190, Val Acc: 0.8265\n",
      "Epoch 2/10: Train Loss: 0.2978, Train Acc: 0.9056, Val Loss: 0.4994, Val Acc: 0.8605\n",
      "Epoch 3/10: Train Loss: 0.1522, Train Acc: 0.9550, Val Loss: 0.2997, Val Acc: 0.9072\n",
      "Epoch 4/10: Train Loss: 0.1091, Train Acc: 0.9693, Val Loss: 0.4105, Val Acc: 0.8817\n"
     ]
    },
    {
     "name": "stderr",
     "output_type": "stream",
     "text": [
      "[I 2025-06-04 18:39:02,185] Trial 17 finished with value: 0.9072237960339944 and parameters: {'batch_size': 16, 'learning_rate': 0.00017496863508396928, 'optimizer': 'RMSprop', 'weight_decay': 1.9921797837408937e-05, 'freeze_layers': 1, 'dropout_rate': 0.3842580888937494, 'scheduler_factor': 0.42993978100466707, 'scheduler_patience': 3}. Best is trial 15 with value: 0.9157223796033994.\n"
     ]
    },
    {
     "name": "stdout",
     "output_type": "stream",
     "text": [
      "Epoch 5/10: Train Loss: 0.0973, Train Acc: 0.9687, Val Loss: 0.3536, Val Acc: 0.9044\n",
      "Time limit reached, stopping training.\n"
     ]
    },
    {
     "name": "stderr",
     "output_type": "stream",
     "text": [
      "[I 2025-06-04 18:40:09,299] Trial 18 pruned. \n"
     ]
    },
    {
     "name": "stdout",
     "output_type": "stream",
     "text": [
      "Epoch 1/10: Train Loss: 2.0305, Train Acc: 0.3812, Val Loss: 1.2472, Val Acc: 0.6686\n",
      "Epoch 1/10: Train Loss: 1.1289, Train Acc: 0.6453, Val Loss: 0.5147, Val Acc: 0.8286\n"
     ]
    },
    {
     "name": "stderr",
     "output_type": "stream",
     "text": [
      "[I 2025-06-04 18:42:30,248] Trial 19 pruned. \n"
     ]
    },
    {
     "name": "stdout",
     "output_type": "stream",
     "text": [
      "Epoch 2/10: Train Loss: 0.2826, Train Acc: 0.9172, Val Loss: 0.5623, Val Acc: 0.8336\n",
      "Best trial:\n",
      "  Value: 0.9157223796033994\n",
      "  Params: \n",
      "    batch_size: 16\n",
      "    learning_rate: 0.00010789557536232313\n",
      "    optimizer: RMSprop\n",
      "    weight_decay: 0.00040750323535827527\n",
      "    freeze_layers: 2\n",
      "    dropout_rate: 0.4666802835860424\n",
      "    scheduler_factor: 0.392195182888112\n",
      "    scheduler_patience: 3\n",
      "\n",
      "Training final model with best hyperparameters...\n"
     ]
    },
    {
     "name": "stderr",
     "output_type": "stream",
     "text": [
      "Epoch 1/20 [Train]: 100%|██████████| 352/352 [00:55<00:00,  6.30it/s, loss=0.274, acc=0.615]\n",
      "Epoch 1/20 [Val]: 100%|██████████| 89/89 [00:16<00:00,  5.46it/s, loss=0.619, acc=0.858]  \n"
     ]
    },
    {
     "name": "stdout",
     "output_type": "stream",
     "text": [
      "Epoch 1/20: Train Loss: 1.2146, Train Acc: 0.6149, Val Loss: 0.4557, Val Acc: 0.8576\n"
     ]
    },
    {
     "name": "stderr",
     "output_type": "stream",
     "text": [
      "Epoch 2/20 [Train]: 100%|██████████| 352/352 [00:53<00:00,  6.63it/s, loss=0.576, acc=0.913] \n",
      "Epoch 2/20 [Val]: 100%|██████████| 89/89 [00:15<00:00,  5.77it/s, loss=0.624, acc=0.867]   \n"
     ]
    },
    {
     "name": "stdout",
     "output_type": "stream",
     "text": [
      "Epoch 2/20: Train Loss: 0.3027, Train Acc: 0.9129, Val Loss: 0.4271, Val Acc: 0.8669\n"
     ]
    },
    {
     "name": "stderr",
     "output_type": "stream",
     "text": [
      "Epoch 3/20 [Train]: 100%|██████████| 352/352 [00:52<00:00,  6.71it/s, loss=0.0978, acc=0.965] \n",
      "Epoch 3/20 [Val]: 100%|██████████| 89/89 [00:15<00:00,  5.80it/s, loss=1.11, acc=0.902]   \n"
     ]
    },
    {
     "name": "stdout",
     "output_type": "stream",
     "text": [
      "Epoch 3/20: Train Loss: 0.1267, Train Acc: 0.9653, Val Loss: 0.3369, Val Acc: 0.9016\n"
     ]
    },
    {
     "name": "stderr",
     "output_type": "stream",
     "text": [
      "Epoch 4/20 [Train]: 100%|██████████| 352/352 [00:52<00:00,  6.72it/s, loss=0.267, acc=0.974]  \n",
      "Epoch 4/20 [Val]: 100%|██████████| 89/89 [00:15<00:00,  5.80it/s, loss=0.58, acc=0.897]    \n"
     ]
    },
    {
     "name": "stdout",
     "output_type": "stream",
     "text": [
      "Epoch 4/20: Train Loss: 0.0926, Train Acc: 0.9742, Val Loss: 0.4180, Val Acc: 0.8973\n"
     ]
    },
    {
     "name": "stderr",
     "output_type": "stream",
     "text": [
      "Epoch 5/20 [Train]: 100%|██████████| 352/352 [00:52<00:00,  6.72it/s, loss=0.0374, acc=0.98]  \n",
      "Epoch 5/20 [Val]: 100%|██████████| 89/89 [00:15<00:00,  5.84it/s, loss=0.692, acc=0.912]   \n"
     ]
    },
    {
     "name": "stdout",
     "output_type": "stream",
     "text": [
      "Epoch 5/20: Train Loss: 0.0762, Train Acc: 0.9801, Val Loss: 0.3274, Val Acc: 0.9122\n"
     ]
    },
    {
     "name": "stderr",
     "output_type": "stream",
     "text": [
      "Epoch 6/20 [Train]: 100%|██████████| 352/352 [00:52<00:00,  6.70it/s, loss=0.0353, acc=0.979] \n",
      "Epoch 6/20 [Val]: 100%|██████████| 89/89 [00:15<00:00,  5.78it/s, loss=0.132, acc=0.911]   \n"
     ]
    },
    {
     "name": "stdout",
     "output_type": "stream",
     "text": [
      "Epoch 6/20: Train Loss: 0.0716, Train Acc: 0.9787, Val Loss: 0.3533, Val Acc: 0.9108\n"
     ]
    },
    {
     "name": "stderr",
     "output_type": "stream",
     "text": [
      "Epoch 7/20 [Train]: 100%|██████████| 352/352 [00:52<00:00,  6.72it/s, loss=0.0929, acc=0.986] \n",
      "Epoch 7/20 [Val]: 100%|██████████| 89/89 [00:15<00:00,  5.81it/s, loss=0.202, acc=0.911]   \n"
     ]
    },
    {
     "name": "stdout",
     "output_type": "stream",
     "text": [
      "Epoch 7/20: Train Loss: 0.0544, Train Acc: 0.9860, Val Loss: 0.3568, Val Acc: 0.9108\n"
     ]
    },
    {
     "name": "stderr",
     "output_type": "stream",
     "text": [
      "Epoch 8/20 [Train]: 100%|██████████| 352/352 [00:52<00:00,  6.73it/s, loss=0.184, acc=0.981]   \n",
      "Epoch 8/20 [Val]: 100%|██████████| 89/89 [00:15<00:00,  5.81it/s, loss=1.26, acc=0.906]    \n"
     ]
    },
    {
     "name": "stdout",
     "output_type": "stream",
     "text": [
      "Epoch 8/20: Train Loss: 0.0619, Train Acc: 0.9813, Val Loss: 0.3688, Val Acc: 0.9058\n"
     ]
    },
    {
     "name": "stderr",
     "output_type": "stream",
     "text": [
      "Epoch 9/20 [Train]: 100%|██████████| 352/352 [00:52<00:00,  6.73it/s, loss=0.027, acc=0.986]   \n",
      "Epoch 9/20 [Val]: 100%|██████████| 89/89 [00:15<00:00,  5.83it/s, loss=0.409, acc=0.926]   \n"
     ]
    },
    {
     "name": "stdout",
     "output_type": "stream",
     "text": [
      "Epoch 9/20: Train Loss: 0.0501, Train Acc: 0.9861, Val Loss: 0.2737, Val Acc: 0.9263\n"
     ]
    },
    {
     "name": "stderr",
     "output_type": "stream",
     "text": [
      "Epoch 10/20 [Train]: 100%|██████████| 352/352 [00:52<00:00,  6.73it/s, loss=0.106, acc=0.987]   \n",
      "Epoch 10/20 [Val]: 100%|██████████| 89/89 [00:15<00:00,  5.77it/s, loss=0.0985, acc=0.918]  \n"
     ]
    },
    {
     "name": "stdout",
     "output_type": "stream",
     "text": [
      "Epoch 10/20: Train Loss: 0.0449, Train Acc: 0.9874, Val Loss: 0.3236, Val Acc: 0.9178\n"
     ]
    },
    {
     "name": "stderr",
     "output_type": "stream",
     "text": [
      "Epoch 11/20 [Train]: 100%|██████████| 352/352 [00:52<00:00,  6.72it/s, loss=0.00987, acc=0.989] \n",
      "Epoch 11/20 [Val]: 100%|██████████| 89/89 [00:15<00:00,  5.78it/s, loss=0.442, acc=0.895]   \n"
     ]
    },
    {
     "name": "stdout",
     "output_type": "stream",
     "text": [
      "Epoch 11/20: Train Loss: 0.0388, Train Acc: 0.9890, Val Loss: 0.4486, Val Acc: 0.8952\n"
     ]
    },
    {
     "name": "stderr",
     "output_type": "stream",
     "text": [
      "Epoch 12/20 [Train]: 100%|██████████| 352/352 [00:52<00:00,  6.75it/s, loss=0.0301, acc=0.985]  \n",
      "Epoch 12/20 [Val]: 100%|██████████| 89/89 [00:16<00:00,  5.56it/s, loss=0.321, acc=0.914]   \n"
     ]
    },
    {
     "name": "stdout",
     "output_type": "stream",
     "text": [
      "Epoch 12/20: Train Loss: 0.0476, Train Acc: 0.9849, Val Loss: 0.3394, Val Acc: 0.9143\n"
     ]
    },
    {
     "name": "stderr",
     "output_type": "stream",
     "text": [
      "Epoch 13/20 [Train]: 100%|██████████| 352/352 [00:57<00:00,  6.08it/s, loss=0.525, acc=0.987]   \n",
      "Epoch 13/20 [Val]: 100%|██████████| 89/89 [00:17<00:00,  5.17it/s, loss=0.185, acc=0.902]   \n"
     ]
    },
    {
     "name": "stdout",
     "output_type": "stream",
     "text": [
      "Epoch 13/20: Train Loss: 0.0485, Train Acc: 0.9872, Val Loss: 0.4046, Val Acc: 0.9016\n"
     ]
    },
    {
     "name": "stderr",
     "output_type": "stream",
     "text": [
      "Epoch 14/20 [Train]: 100%|██████████| 352/352 [00:55<00:00,  6.33it/s, loss=0.0947, acc=0.995]  \n",
      "Epoch 14/20 [Val]: 100%|██████████| 89/89 [00:16<00:00,  5.37it/s, loss=0.145, acc=0.931]   \n"
     ]
    },
    {
     "name": "stdout",
     "output_type": "stream",
     "text": [
      "Epoch 14/20: Train Loss: 0.0207, Train Acc: 0.9948, Val Loss: 0.2978, Val Acc: 0.9313\n"
     ]
    },
    {
     "name": "stderr",
     "output_type": "stream",
     "text": [
      "Epoch 15/20 [Train]: 100%|██████████| 352/352 [00:56<00:00,  6.21it/s, loss=0.00424, acc=0.998] \n",
      "Epoch 15/20 [Val]: 100%|██████████| 89/89 [00:17<00:00,  5.08it/s, loss=0.0132, acc=0.938]  \n"
     ]
    },
    {
     "name": "stdout",
     "output_type": "stream",
     "text": [
      "Epoch 15/20: Train Loss: 0.0103, Train Acc: 0.9977, Val Loss: 0.2812, Val Acc: 0.9377\n"
     ]
    },
    {
     "name": "stderr",
     "output_type": "stream",
     "text": [
      "Epoch 16/20 [Train]: 100%|██████████| 352/352 [00:53<00:00,  6.64it/s, loss=0.0671, acc=0.999]  \n",
      "Epoch 16/20 [Val]: 100%|██████████| 89/89 [00:15<00:00,  5.71it/s, loss=0.00703, acc=0.931] \n"
     ]
    },
    {
     "name": "stdout",
     "output_type": "stream",
     "text": [
      "Epoch 16/20: Train Loss: 0.0067, Train Acc: 0.9986, Val Loss: 0.3286, Val Acc: 0.9306\n"
     ]
    },
    {
     "name": "stderr",
     "output_type": "stream",
     "text": [
      "Epoch 17/20 [Train]: 100%|██████████| 352/352 [00:54<00:00,  6.49it/s, loss=0.0468, acc=0.998]  \n",
      "Epoch 17/20 [Val]: 100%|██████████| 89/89 [00:15<00:00,  5.59it/s, loss=0.24, acc=0.928]    \n"
     ]
    },
    {
     "name": "stdout",
     "output_type": "stream",
     "text": [
      "Epoch 17/20: Train Loss: 0.0071, Train Acc: 0.9977, Val Loss: 0.3187, Val Acc: 0.9285\n"
     ]
    },
    {
     "name": "stderr",
     "output_type": "stream",
     "text": [
      "Epoch 18/20 [Train]: 100%|██████████| 352/352 [00:52<00:00,  6.66it/s, loss=0.000333, acc=0.998]\n",
      "Epoch 18/20 [Val]: 100%|██████████| 89/89 [00:15<00:00,  5.76it/s, loss=0.104, acc=0.938]   \n"
     ]
    },
    {
     "name": "stdout",
     "output_type": "stream",
     "text": [
      "Epoch 18/20: Train Loss: 0.0068, Train Acc: 0.9979, Val Loss: 0.2745, Val Acc: 0.9384\n"
     ]
    },
    {
     "name": "stderr",
     "output_type": "stream",
     "text": [
      "Epoch 19/20 [Train]: 100%|██████████| 352/352 [00:52<00:00,  6.69it/s, loss=7.52e-5, acc=0.999] \n",
      "Epoch 19/20 [Val]: 100%|██████████| 89/89 [00:15<00:00,  5.74it/s, loss=0.155, acc=0.943]   \n"
     ]
    },
    {
     "name": "stdout",
     "output_type": "stream",
     "text": [
      "Epoch 19/20: Train Loss: 0.0027, Train Acc: 0.9993, Val Loss: 0.2617, Val Acc: 0.9433\n"
     ]
    },
    {
     "name": "stderr",
     "output_type": "stream",
     "text": [
      "Epoch 20/20 [Train]: 100%|██████████| 352/352 [00:52<00:00,  6.71it/s, loss=0.000985, acc=0.999]\n",
      "Epoch 20/20 [Val]: 100%|██████████| 89/89 [00:15<00:00,  5.73it/s, loss=0.0181, acc=0.944]  \n"
     ]
    },
    {
     "name": "stdout",
     "output_type": "stream",
     "text": [
      "Epoch 20/20: Train Loss: 0.0030, Train Acc: 0.9989, Val Loss: 0.2746, Val Acc: 0.9441\n"
     ]
    },
    {
     "data": {
      "image/png": "[encoded data removed]",
      "text/plain": [
       "<Figure size 1200x500 with 2 Axes>"
      ]
     },
     "metadata": {},
     "output_type": "display_data"
    },
    {
     "name": "stdout",
     "output_type": "stream",
     "text": [
      "Final model trained and saved as 'car_brand_best_model.pth'\n"
     ]
    }
   ],
   "source": [
    "# Set device\n",
    "device = torch.device(\"cuda\" if torch.cuda.is_available() else \"cpu\")\n",
    "print(f\"Using {device} device\")\n",
    "\n",
    "# Set paths\n",
    "data_dir = \"dataset/Car-Model-Data\"\n",
    "num_classes = 14\n",
    "\n",
    "# Set up data transformations\n",
    "transform = transforms.Compose([\n",
    "    transforms.Resize((224, 224)),\n",
    "    transforms.ToTensor(),\n",
    "    transforms.Normalize(mean=[0.485, 0.456, 0.406], std=[0.229, 0.224, 0.225])\n",
    "])\n",
    "\n",
    "# Load datasets\n",
    "print(\"Loading dataset...\")\n",
    "train_dataset = datasets.ImageFolder(os.path.join(data_dir, 'train'), transform=transform)\n",
    "val_dataset = datasets.ImageFolder(os.path.join(data_dir, 'val'), transform=transform)\n",
    "\n",
    "# Print class information\n",
    "class_names = train_dataset.classes\n",
    "print(f\"Classes: {class_names}\")\n",
    "print(f\"Number of training samples: {len(train_dataset)}\")\n",
    "print(f\"Number of validation samples: {len(val_dataset)}\")\n",
    "\n",
    "# Function to create and train model with specific hyperparameters\n",
    "def objective(trial):\n",
    "    # Hyperparameters to tune\n",
    "    batch_size = trial.suggest_categorical(\"batch_size\", [16, 32, 64])\n",
    "    learning_rate = trial.suggest_float(\"learning_rate\", 1e-5, 1e-2, log=True)\n",
    "    optimizer_name = trial.suggest_categorical(\"optimizer\", [\"Adam\", \"SGD\", \"RMSprop\"])\n",
    "    weight_decay = trial.suggest_float(\"weight_decay\", 1e-6, 1e-3, log=True)\n",
    "    freeze_layers = trial.suggest_int(\"freeze_layers\", 0, 8)  # How many ResNet blocks to freeze\n",
    "    dropout_rate = trial.suggest_float(\"dropout_rate\", 0.0, 0.5)\n",
    "    \n",
    "    # Additional hyperparameters\n",
    "    scheduler_factor = trial.suggest_float(\"scheduler_factor\", 0.1, 0.5)\n",
    "    scheduler_patience = trial.suggest_int(\"scheduler_patience\", 1, 5)\n",
    "    \n",
    "    # Create dataloaders with the suggested batch size\n",
    "    train_loader = DataLoader(train_dataset, batch_size=batch_size, shuffle=True, num_workers=4)\n",
    "    val_loader = DataLoader(val_dataset, batch_size=batch_size, shuffle=False, num_workers=4)\n",
    "    \n",
    "    # Load pre-trained ResNet-50 model\n",
    "    model = models.resnet50(weights='IMAGENET1K_V2')\n",
    "    \n",
    "    # Freeze early layers based on trial suggestion\n",
    "    modules = list(model.children())[:-2]  # Exclude final avg pool and fc\n",
    "    for i in range(freeze_layers):\n",
    "        if i < len(modules):\n",
    "            for param in modules[i].parameters():\n",
    "                param.requires_grad = False\n",
    "    \n",
    "    # Replace the final fully connected layer with dropout\n",
    "    num_ftrs = model.fc.in_features\n",
    "    model.fc = nn.Sequential(\n",
    "        nn.Dropout(dropout_rate),\n",
    "        nn.Linear(num_ftrs, num_classes)\n",
    "    )\n",
    "    model = model.to(device)\n",
    "    \n",
    "    # Set up loss function\n",
    "    criterion = nn.CrossEntropyLoss()\n",
    "    \n",
    "    # Set up optimizer based on trial suggestion\n",
    "    if optimizer_name == \"Adam\":\n",
    "        optimizer = optim.Adam(model.parameters(), lr=learning_rate, weight_decay=weight_decay)\n",
    "    elif optimizer_name == \"SGD\":\n",
    "        optimizer = optim.SGD(model.parameters(), lr=learning_rate, momentum=0.9, weight_decay=weight_decay)\n",
    "    else:  # RMSprop\n",
    "        optimizer = optim.RMSprop(model.parameters(), lr=learning_rate, weight_decay=weight_decay)\n",
    "    \n",
    "    # Set up scheduler\n",
    "    scheduler = optim.lr_scheduler.ReduceLROnPlateau(\n",
    "        optimizer, mode='min', factor=scheduler_factor, patience=scheduler_patience\n",
    "    )\n",
    "    \n",
    "    # Set maximum training time (e.g., 5 minutes per trial)\n",
    "    max_train_time = 5 * 60  # 5 minutes in seconds\n",
    "    start_time = time.time()\n",
    "    \n",
    "    # Training loop with early stopping\n",
    "    best_val_acc = 0.0\n",
    "    epochs_without_improvement = 0\n",
    "    early_stopping_patience = 3\n",
    "    max_epochs = 10  # Limit epochs for hyperparameter search\n",
    "    \n",
    "    for epoch in range(max_epochs):\n",
    "        # Check if we've exceeded time limit\n",
    "        if time.time() - start_time > max_train_time:\n",
    "            print(\"Time limit reached, stopping training.\")\n",
    "            break\n",
    "        \n",
    "        # Training phase\n",
    "        model.train()\n",
    "        running_loss = 0.0\n",
    "        correct = 0\n",
    "        total = 0\n",
    "        \n",
    "        for inputs, labels in train_loader:\n",
    "            inputs, labels = inputs.to(device), labels.to(device)\n",
    "            \n",
    "            optimizer.zero_grad()\n",
    "            outputs = model(inputs)\n",
    "            loss = criterion(outputs, labels)\n",
    "            loss.backward()\n",
    "            optimizer.step()\n",
    "            \n",
    "            running_loss += loss.item() * inputs.size(0)\n",
    "            _, predicted = torch.max(outputs, 1)\n",
    "            total += labels.size(0)\n",
    "            correct += (predicted == labels).sum().item()\n",
    "        \n",
    "        epoch_train_loss = running_loss / len(train_loader.dataset)\n",
    "        epoch_train_acc = correct / total\n",
    "        \n",
    "        # Validation phase\n",
    "        model.eval()\n",
    "        val_loss = 0.0\n",
    "        val_correct = 0\n",
    "        val_total = 0\n",
    "        \n",
    "        with torch.no_grad():\n",
    "            for inputs, labels in val_loader:\n",
    "                inputs, labels = inputs.to(device), labels.to(device)\n",
    "                \n",
    "                outputs = model(inputs)\n",
    "                loss = criterion(outputs, labels)\n",
    "                \n",
    "                val_loss += loss.item() * inputs.size(0)\n",
    "                _, predicted = torch.max(outputs, 1)\n",
    "                val_total += labels.size(0)\n",
    "                val_correct += (predicted == labels).sum().item()\n",
    "        \n",
    "        epoch_val_loss = val_loss / len(val_loader.dataset)\n",
    "        epoch_val_acc = val_correct / val_total\n",
    "        \n",
    "        print(f\"Epoch {epoch+1}/{max_epochs}: \"\n",
    "              f\"Train Loss: {epoch_train_loss:.4f}, Train Acc: {epoch_train_acc:.4f}, \"\n",
    "              f\"Val Loss: {epoch_val_loss:.4f}, Val Acc: {epoch_val_acc:.4f}\")\n",
    "        \n",
    "        # Update learning rate\n",
    "        scheduler.step(epoch_val_loss)\n",
    "        \n",
    "        # Report intermediate value for pruning\n",
    "        trial.report(epoch_val_acc, epoch)\n",
    "        \n",
    "        # Handle pruning based on the intermediate value\n",
    "        if trial.should_prune():\n",
    "            raise optuna.exceptions.TrialPruned()\n",
    "        \n",
    "        # Early stopping logic\n",
    "        if epoch_val_acc > best_val_acc:\n",
    "            best_val_acc = epoch_val_acc\n",
    "            epochs_without_improvement = 0\n",
    "        else:\n",
    "            epochs_without_improvement += 1\n",
    "            if epochs_without_improvement >= early_stopping_patience:\n",
    "                print(f\"Early stopping triggered after {epoch+1} epochs\")\n",
    "                break\n",
    "    \n",
    "    return best_val_acc\n",
    "\n",
    "# Create Optuna study\n",
    "study = optuna.create_study(direction=\"maximize\", pruner=optuna.pruners.MedianPruner())\n",
    "study.optimize(objective, n_trials=20)  # Adjust number of trials based on time constraints\n",
    "\n",
    "# Print best trial information\n",
    "print(\"Best trial:\")\n",
    "trial = study.best_trial\n",
    "print(f\"  Value: {trial.value}\")\n",
    "print(\"  Params: \")\n",
    "for key, value in trial.params.items():\n",
    "    print(f\"    {key}: {value}\")\n",
    "\n",
    "# Visualize results\n",
    "optuna.visualization.plot_param_importances(study)\n",
    "optuna.visualization.plot_optimization_history(study)\n",
    "\n",
    "# Train final model with best hyperparameters\n",
    "print(\"\\nTraining final model with best hyperparameters...\")\n",
    "best_params = study.best_params\n",
    "\n",
    "# Get the best batch size\n",
    "batch_size = best_params[\"batch_size\"]\n",
    "\n",
    "# Create dataloaders with the best batch size\n",
    "train_loader = DataLoader(train_dataset, batch_size=batch_size, shuffle=True, num_workers=4)\n",
    "val_loader = DataLoader(val_dataset, batch_size=batch_size, shuffle=False, num_workers=4)\n",
    "\n",
    "# Load pre-trained ResNet-50 model\n",
    "model = models.resnet50(weights='IMAGENET1K_V2')\n",
    "\n",
    "# Apply best freezing strategy\n",
    "freeze_layers = best_params[\"freeze_layers\"]\n",
    "modules = list(model.children())[:-2]\n",
    "for i in range(freeze_layers):\n",
    "    if i < len(modules):\n",
    "        for param in modules[i].parameters():\n",
    "            param.requires_grad = False\n",
    "\n",
    "# Replace the final fully connected layer with best dropout\n",
    "dropout_rate = best_params[\"dropout_rate\"]\n",
    "num_ftrs = model.fc.in_features\n",
    "model.fc = nn.Sequential(\n",
    "    nn.Dropout(dropout_rate),\n",
    "    nn.Linear(num_ftrs, num_classes)\n",
    ")\n",
    "model = model.to(device)\n",
    "\n",
    "# Set up loss function\n",
    "criterion = nn.CrossEntropyLoss()\n",
    "\n",
    "# Set up optimizer with best parameters\n",
    "optimizer_name = best_params[\"optimizer\"]\n",
    "learning_rate = best_params[\"learning_rate\"]\n",
    "weight_decay = best_params[\"weight_decay\"]\n",
    "\n",
    "if optimizer_name == \"Adam\":\n",
    "    optimizer = optim.Adam(model.parameters(), lr=learning_rate, weight_decay=weight_decay)\n",
    "elif optimizer_name == \"SGD\":\n",
    "    optimizer = optim.SGD(model.parameters(), lr=learning_rate, momentum=0.9, weight_decay=weight_decay)\n",
    "else:  # RMSprop\n",
    "    optimizer = optim.RMSprop(model.parameters(), lr=learning_rate, weight_decay=weight_decay)\n",
    "\n",
    "# Set up best scheduler\n",
    "scheduler = optim.lr_scheduler.ReduceLROnPlateau(\n",
    "    optimizer, \n",
    "    mode='min', \n",
    "    factor=best_params[\"scheduler_factor\"], \n",
    "    patience=best_params[\"scheduler_patience\"]\n",
    ")\n",
    "\n",
    "# Train the final model with the full training regime\n",
    "num_epochs = 20  # Use your original number of epochs for final training\n",
    "train_losses, val_losses = [], []\n",
    "train_accuracies, val_accuracies = [], []\n",
    "\n",
    "for epoch in range(num_epochs):\n",
    "    # Training phase\n",
    "    model.train()\n",
    "    running_loss = 0.0\n",
    "    correct = 0\n",
    "    total = 0\n",
    "    \n",
    "    train_bar = tqdm(train_loader, desc=f\"Epoch {epoch+1}/{num_epochs} [Train]\")\n",
    "    for inputs, labels in train_bar:\n",
    "        inputs, labels = inputs.to(device), labels.to(device)\n",
    "        \n",
    "        optimizer.zero_grad()\n",
    "        outputs = model(inputs)\n",
    "        loss = criterion(outputs, labels)\n",
    "        loss.backward()\n",
    "        optimizer.step()\n",
    "        \n",
    "        running_loss += loss.item() * inputs.size(0)\n",
    "        _, predicted = torch.max(outputs, 1)\n",
    "        total += labels.size(0)\n",
    "        correct += (predicted == labels).sum().item()\n",
    "        \n",
    "        train_bar.set_postfix({'loss': loss.item(), 'acc': correct/total})\n",
    "    \n",
    "    epoch_train_loss = running_loss / len(train_loader.dataset)\n",
    "    epoch_train_acc = correct / total\n",
    "    train_losses.append(epoch_train_loss)\n",
    "    train_accuracies.append(epoch_train_acc)\n",
    "    \n",
    "    # Validation phase\n",
    "    model.eval()\n",
    "    val_loss = 0.0\n",
    "    val_correct = 0\n",
    "    val_total = 0\n",
    "    \n",
    "    with torch.no_grad():\n",
    "        val_bar = tqdm(val_loader, desc=f\"Epoch {epoch+1}/{num_epochs} [Val]\")\n",
    "        for inputs, labels in val_bar:\n",
    "            inputs, labels = inputs.to(device), labels.to(device)\n",
    "            \n",
    "            outputs = model(inputs)\n",
    "            loss = criterion(outputs, labels)\n",
    "            \n",
    "            val_loss += loss.item() * inputs.size(0)\n",
    "            _, predicted = torch.max(outputs, 1)\n",
    "            val_total += labels.size(0)\n",
    "            val_correct += (predicted == labels).sum().item()\n",
    "            \n",
    "            val_bar.set_postfix({'loss': loss.item(), 'acc': val_correct/val_total})\n",
    "    \n",
    "    epoch_val_loss = val_loss / len(val_loader.dataset)\n",
    "    epoch_val_acc = val_correct / val_total\n",
    "    val_losses.append(epoch_val_loss)\n",
    "    val_accuracies.append(epoch_val_acc)\n",
    "    \n",
    "    print(f\"Epoch {epoch+1}/{num_epochs}: \"\n",
    "          f\"Train Loss: {epoch_train_loss:.4f}, Train Acc: {epoch_train_acc:.4f}, \"\n",
    "          f\"Val Loss: {epoch_val_loss:.4f}, Val Acc: {epoch_val_acc:.4f}\")\n",
    "    \n",
    "    # Update learning rate\n",
    "    scheduler.step(epoch_val_loss)\n",
    "\n",
    "# Save the final model\n",
    "torch.save(model.state_dict(), 'car_brand_best_model.pth')\n",
    "\n",
    "# Plot training curves\n",
    "plt.figure(figsize=(12, 5))\n",
    "plt.subplot(1, 2, 1)\n",
    "plt.plot(train_losses, label='Train Loss')\n",
    "plt.plot(val_losses, label='Validation Loss')\n",
    "plt.xlabel('Epoch')\n",
    "plt.ylabel('Loss')\n",
    "plt.legend()\n",
    "plt.title('Loss Curves')\n",
    "\n",
    "plt.subplot(1, 2, 2)\n",
    "plt.plot(train_accuracies, label='Train Accuracy')\n",
    "plt.plot(val_accuracies, label='Validation Accuracy')\n",
    "plt.xlabel('Epoch')\n",
    "plt.ylabel('Accuracy')\n",
    "plt.legend()\n",
    "plt.title('Accuracy Curves')\n",
    "\n",
    "plt.tight_layout()\n",
    "plt.savefig('training_curves.png')\n",
    "plt.show()\n",
    "\n",
    "print(\"Final model trained and saved as 'car_brand_best_model.pth'\")"
   ]
  },
  {
   "cell_type": "code",
   "execution_count": 3,
   "metadata": {},
   "outputs": [
    {
     "name": "stdout",
     "output_type": "stream",
     "text": [
      "\n",
      "Evaluating model on validation set:\n",
      "Overall Accuracy: 94.41%\n",
      "Accuracy of Alza: 98.04%\n",
      "Accuracy of Aruz: 98.04%\n",
      "Accuracy of Ativa: 100.00%\n",
      "Accuracy of Axia: 95.10%\n",
      "Accuracy of Bezza: 97.06%\n",
      "Accuracy of Kancil: 100.00%\n",
      "Accuracy of Myvi: 97.00%\n",
      "Accuracy of accord: 93.14%\n",
      "Accuracy of camry: 91.00%\n",
      "Accuracy of city: 94.00%\n",
      "Accuracy of civic: 82.00%\n",
      "Accuracy of corolla: 87.25%\n",
      "Accuracy of vios: 97.00%\n",
      "Accuracy of yaris: 92.00%\n"
     ]
    }
   ],
   "source": [
    "# Evaluate the model on the validation set\n",
    "def evaluate_model(model, data_loader):\n",
    "    model.eval()\n",
    "    correct = 0\n",
    "    total = 0\n",
    "    class_correct = list(0. for i in range(num_classes))\n",
    "    class_total = list(0. for i in range(num_classes))\n",
    "    \n",
    "    with torch.no_grad():\n",
    "        for inputs, labels in data_loader:\n",
    "            inputs, labels = inputs.to(device), labels.to(device)\n",
    "            outputs = model(inputs)\n",
    "            _, predicted = torch.max(outputs, 1)\n",
    "            total += labels.size(0)\n",
    "            correct += (predicted == labels).sum().item()\n",
    "            \n",
    "            # Class performance\n",
    "            c = (predicted == labels).squeeze()\n",
    "            for i in range(labels.size(0)):\n",
    "                label = labels[i]\n",
    "                class_correct[label] += c[i].item()\n",
    "                class_total[label] += 1\n",
    "    \n",
    "    # Print overall accuracy\n",
    "    print(f'Overall Accuracy: {100 * correct / total:.2f}%')\n",
    "    \n",
    "    # Print class-wise accuracy\n",
    "    for i in range(num_classes):\n",
    "        if class_total[i] > 0:\n",
    "            print(f'Accuracy of {class_names[i]}: {100 * class_correct[i] / class_total[i]:.2f}%')\n",
    "\n",
    "# Evaluate the trained model\n",
    "print(\"\\nEvaluating model on validation set:\")\n",
    "evaluate_model(model, val_loader)"
   ]
  },
  {
   "cell_type": "code",
   "execution_count": 4,
   "metadata": {},
   "outputs": [
    {
     "name": "stdout",
     "output_type": "stream",
     "text": [
      "Model saved to best_car_brand_resnet50.pth\n"
     ]
    }
   ],
   "source": [
    "# Save the model\n",
    "torch.save(model.state_dict(), 'best_car_brand_resnet50.pth')\n",
    "print(\"Model saved to best_car_brand_resnet50.pth\")"
   ]
  },
  {
   "cell_type": "code",
   "execution_count": null,
   "metadata": {},
   "outputs": [],
   "source": []
  }
 ],
 "metadata": {
  "kernelspec": {
   "display_name": "Python 3",
   "language": "python",
   "name": "python3"
  },
  "language_info": {
   "codemirror_mode": {
    "name": "ipython",
    "version": 3
   },
   "file_extension": ".py",
   "mimetype": "text/x-python",
   "name": "python",
   "nbconvert_exporter": "python",
   "pygments_lexer": "ipython3",
   "version": "3.11.7"
  }
 },
 "nbformat": 4,
 "nbformat_minor": 2
}
